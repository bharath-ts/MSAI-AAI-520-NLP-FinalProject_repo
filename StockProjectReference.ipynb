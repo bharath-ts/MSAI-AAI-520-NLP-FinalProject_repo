{
  "nbformat": 4,
  "nbformat_minor": 0,
  "metadata": {
    "colab": {
      "provenance": []
    },
    "kernelspec": {
      "name": "python3",
      "display_name": "Python 3"
    },
    "language_info": {
      "name": "python"
    }
  },
  "cells": [
    {
      "cell_type": "code",
      "source": [
        "!pip install yfinance"
      ],
      "metadata": {
        "colab": {
          "base_uri": "https://localhost:8080/"
        },
        "collapsed": true,
        "id": "KRATFw4K2Y4Q",
        "outputId": "9c245831-6d97-460b-8d34-f6e1bb244a9e"
      },
      "execution_count": null,
      "outputs": [
        {
          "output_type": "stream",
          "name": "stdout",
          "text": [
            "Requirement already satisfied: yfinance in /usr/local/lib/python3.12/dist-packages (0.2.66)\n",
            "Requirement already satisfied: pandas>=1.3.0 in /usr/local/lib/python3.12/dist-packages (from yfinance) (2.2.2)\n",
            "Requirement already satisfied: numpy>=1.16.5 in /usr/local/lib/python3.12/dist-packages (from yfinance) (2.0.2)\n",
            "Requirement already satisfied: requests>=2.31 in /usr/local/lib/python3.12/dist-packages (from yfinance) (2.32.4)\n",
            "Requirement already satisfied: multitasking>=0.0.7 in /usr/local/lib/python3.12/dist-packages (from yfinance) (0.0.12)\n",
            "Requirement already satisfied: platformdirs>=2.0.0 in /usr/local/lib/python3.12/dist-packages (from yfinance) (4.4.0)\n",
            "Requirement already satisfied: pytz>=2022.5 in /usr/local/lib/python3.12/dist-packages (from yfinance) (2025.2)\n",
            "Requirement already satisfied: frozendict>=2.3.4 in /usr/local/lib/python3.12/dist-packages (from yfinance) (2.4.6)\n",
            "Requirement already satisfied: peewee>=3.16.2 in /usr/local/lib/python3.12/dist-packages (from yfinance) (3.18.2)\n",
            "Requirement already satisfied: beautifulsoup4>=4.11.1 in /usr/local/lib/python3.12/dist-packages (from yfinance) (4.13.5)\n",
            "Requirement already satisfied: curl_cffi>=0.7 in /usr/local/lib/python3.12/dist-packages (from yfinance) (0.13.0)\n",
            "Requirement already satisfied: protobuf>=3.19.0 in /usr/local/lib/python3.12/dist-packages (from yfinance) (5.29.5)\n",
            "Requirement already satisfied: websockets>=13.0 in /usr/local/lib/python3.12/dist-packages (from yfinance) (15.0.1)\n",
            "Requirement already satisfied: soupsieve>1.2 in /usr/local/lib/python3.12/dist-packages (from beautifulsoup4>=4.11.1->yfinance) (2.8)\n",
            "Requirement already satisfied: typing-extensions>=4.0.0 in /usr/local/lib/python3.12/dist-packages (from beautifulsoup4>=4.11.1->yfinance) (4.15.0)\n",
            "Requirement already satisfied: cffi>=1.12.0 in /usr/local/lib/python3.12/dist-packages (from curl_cffi>=0.7->yfinance) (2.0.0)\n",
            "Requirement already satisfied: certifi>=2024.2.2 in /usr/local/lib/python3.12/dist-packages (from curl_cffi>=0.7->yfinance) (2025.8.3)\n",
            "Requirement already satisfied: python-dateutil>=2.8.2 in /usr/local/lib/python3.12/dist-packages (from pandas>=1.3.0->yfinance) (2.9.0.post0)\n",
            "Requirement already satisfied: tzdata>=2022.7 in /usr/local/lib/python3.12/dist-packages (from pandas>=1.3.0->yfinance) (2025.2)\n",
            "Requirement already satisfied: charset_normalizer<4,>=2 in /usr/local/lib/python3.12/dist-packages (from requests>=2.31->yfinance) (3.4.3)\n",
            "Requirement already satisfied: idna<4,>=2.5 in /usr/local/lib/python3.12/dist-packages (from requests>=2.31->yfinance) (3.10)\n",
            "Requirement already satisfied: urllib3<3,>=1.21.1 in /usr/local/lib/python3.12/dist-packages (from requests>=2.31->yfinance) (2.5.0)\n",
            "Requirement already satisfied: pycparser in /usr/local/lib/python3.12/dist-packages (from cffi>=1.12.0->curl_cffi>=0.7->yfinance) (2.23)\n",
            "Requirement already satisfied: six>=1.5 in /usr/local/lib/python3.12/dist-packages (from python-dateutil>=2.8.2->pandas>=1.3.0->yfinance) (1.17.0)\n"
          ]
        }
      ]
    },
    {
      "cell_type": "code",
      "source": [
        "!pip install langchain_google_genai langgraph langchain"
      ],
      "metadata": {
        "colab": {
          "base_uri": "https://localhost:8080/",
          "height": 1000
        },
        "id": "e0v8veAJ45Dg",
        "outputId": "2067f4e9-6014-4630-c705-d94f2d77b144"
      },
      "execution_count": null,
      "outputs": [
        {
          "output_type": "stream",
          "name": "stdout",
          "text": [
            "Collecting langchain_google_genai\n",
            "  Downloading langchain_google_genai-2.1.12-py3-none-any.whl.metadata (7.1 kB)\n",
            "Collecting langgraph\n",
            "  Downloading langgraph-0.6.9-py3-none-any.whl.metadata (6.8 kB)\n",
            "Requirement already satisfied: langchain in /usr/local/lib/python3.12/dist-packages (0.3.27)\n",
            "Requirement already satisfied: langchain-core>=0.3.75 in /usr/local/lib/python3.12/dist-packages (from langchain_google_genai) (0.3.77)\n",
            "Collecting google-ai-generativelanguage<1,>=0.7 (from langchain_google_genai)\n",
            "  Downloading google_ai_generativelanguage-0.7.0-py3-none-any.whl.metadata (10 kB)\n",
            "Requirement already satisfied: pydantic<3,>=2 in /usr/local/lib/python3.12/dist-packages (from langchain_google_genai) (2.11.9)\n",
            "Collecting filetype<2,>=1.2 (from langchain_google_genai)\n",
            "  Downloading filetype-1.2.0-py2.py3-none-any.whl.metadata (6.5 kB)\n",
            "Collecting langgraph-checkpoint<3.0.0,>=2.1.0 (from langgraph)\n",
            "  Downloading langgraph_checkpoint-2.1.2-py3-none-any.whl.metadata (4.2 kB)\n",
            "Collecting langgraph-prebuilt<0.7.0,>=0.6.0 (from langgraph)\n",
            "  Downloading langgraph_prebuilt-0.6.4-py3-none-any.whl.metadata (4.5 kB)\n",
            "Collecting langgraph-sdk<0.3.0,>=0.2.2 (from langgraph)\n",
            "  Downloading langgraph_sdk-0.2.9-py3-none-any.whl.metadata (1.5 kB)\n",
            "Requirement already satisfied: xxhash>=3.5.0 in /usr/local/lib/python3.12/dist-packages (from langgraph) (3.5.0)\n",
            "Requirement already satisfied: langchain-text-splitters<1.0.0,>=0.3.9 in /usr/local/lib/python3.12/dist-packages (from langchain) (0.3.11)\n",
            "Requirement already satisfied: langsmith>=0.1.17 in /usr/local/lib/python3.12/dist-packages (from langchain) (0.4.31)\n",
            "Requirement already satisfied: SQLAlchemy<3,>=1.4 in /usr/local/lib/python3.12/dist-packages (from langchain) (2.0.43)\n",
            "Requirement already satisfied: requests<3,>=2 in /usr/local/lib/python3.12/dist-packages (from langchain) (2.32.4)\n",
            "Requirement already satisfied: PyYAML>=5.3 in /usr/local/lib/python3.12/dist-packages (from langchain) (6.0.3)\n",
            "Requirement already satisfied: google-api-core!=2.0.*,!=2.1.*,!=2.10.*,!=2.2.*,!=2.3.*,!=2.4.*,!=2.5.*,!=2.6.*,!=2.7.*,!=2.8.*,!=2.9.*,<3.0.0,>=1.34.1 in /usr/local/lib/python3.12/dist-packages (from google-api-core[grpc]!=2.0.*,!=2.1.*,!=2.10.*,!=2.2.*,!=2.3.*,!=2.4.*,!=2.5.*,!=2.6.*,!=2.7.*,!=2.8.*,!=2.9.*,<3.0.0,>=1.34.1->google-ai-generativelanguage<1,>=0.7->langchain_google_genai) (2.25.1)\n",
            "Requirement already satisfied: google-auth!=2.24.0,!=2.25.0,<3.0.0,>=2.14.1 in /usr/local/lib/python3.12/dist-packages (from google-ai-generativelanguage<1,>=0.7->langchain_google_genai) (2.38.0)\n",
            "Requirement already satisfied: proto-plus<2.0.0,>=1.22.3 in /usr/local/lib/python3.12/dist-packages (from google-ai-generativelanguage<1,>=0.7->langchain_google_genai) (1.26.1)\n",
            "Requirement already satisfied: protobuf!=4.21.0,!=4.21.1,!=4.21.2,!=4.21.3,!=4.21.4,!=4.21.5,<7.0.0,>=3.20.2 in /usr/local/lib/python3.12/dist-packages (from google-ai-generativelanguage<1,>=0.7->langchain_google_genai) (5.29.5)\n",
            "Requirement already satisfied: tenacity!=8.4.0,<10.0.0,>=8.1.0 in /usr/local/lib/python3.12/dist-packages (from langchain-core>=0.3.75->langchain_google_genai) (8.5.0)\n",
            "Requirement already satisfied: jsonpatch<2.0.0,>=1.33.0 in /usr/local/lib/python3.12/dist-packages (from langchain-core>=0.3.75->langchain_google_genai) (1.33)\n",
            "Requirement already satisfied: typing-extensions<5.0.0,>=4.7.0 in /usr/local/lib/python3.12/dist-packages (from langchain-core>=0.3.75->langchain_google_genai) (4.15.0)\n",
            "Requirement already satisfied: packaging<26.0.0,>=23.2.0 in /usr/local/lib/python3.12/dist-packages (from langchain-core>=0.3.75->langchain_google_genai) (25.0)\n",
            "Collecting ormsgpack>=1.10.0 (from langgraph-checkpoint<3.0.0,>=2.1.0->langgraph)\n",
            "  Downloading ormsgpack-1.10.0-cp312-cp312-manylinux_2_17_x86_64.manylinux2014_x86_64.whl.metadata (43 kB)\n",
            "\u001b[2K     \u001b[90m━━━━━━━━━━━━━━━━━━━━━━━━━━━━━━━━━━━━━━━━\u001b[0m \u001b[32m43.7/43.7 kB\u001b[0m \u001b[31m2.5 MB/s\u001b[0m eta \u001b[36m0:00:00\u001b[0m\n",
            "\u001b[?25hRequirement already satisfied: httpx>=0.25.2 in /usr/local/lib/python3.12/dist-packages (from langgraph-sdk<0.3.0,>=0.2.2->langgraph) (0.28.1)\n",
            "Requirement already satisfied: orjson>=3.10.1 in /usr/local/lib/python3.12/dist-packages (from langgraph-sdk<0.3.0,>=0.2.2->langgraph) (3.11.3)\n",
            "Requirement already satisfied: requests-toolbelt>=1.0.0 in /usr/local/lib/python3.12/dist-packages (from langsmith>=0.1.17->langchain) (1.0.0)\n",
            "Requirement already satisfied: zstandard>=0.23.0 in /usr/local/lib/python3.12/dist-packages (from langsmith>=0.1.17->langchain) (0.25.0)\n",
            "Requirement already satisfied: annotated-types>=0.6.0 in /usr/local/lib/python3.12/dist-packages (from pydantic<3,>=2->langchain_google_genai) (0.7.0)\n",
            "Requirement already satisfied: pydantic-core==2.33.2 in /usr/local/lib/python3.12/dist-packages (from pydantic<3,>=2->langchain_google_genai) (2.33.2)\n",
            "Requirement already satisfied: typing-inspection>=0.4.0 in /usr/local/lib/python3.12/dist-packages (from pydantic<3,>=2->langchain_google_genai) (0.4.2)\n",
            "Requirement already satisfied: charset_normalizer<4,>=2 in /usr/local/lib/python3.12/dist-packages (from requests<3,>=2->langchain) (3.4.3)\n",
            "Requirement already satisfied: idna<4,>=2.5 in /usr/local/lib/python3.12/dist-packages (from requests<3,>=2->langchain) (3.10)\n",
            "Requirement already satisfied: urllib3<3,>=1.21.1 in /usr/local/lib/python3.12/dist-packages (from requests<3,>=2->langchain) (2.5.0)\n",
            "Requirement already satisfied: certifi>=2017.4.17 in /usr/local/lib/python3.12/dist-packages (from requests<3,>=2->langchain) (2025.8.3)\n",
            "Requirement already satisfied: greenlet>=1 in /usr/local/lib/python3.12/dist-packages (from SQLAlchemy<3,>=1.4->langchain) (3.2.4)\n",
            "Requirement already satisfied: googleapis-common-protos<2.0.0,>=1.56.2 in /usr/local/lib/python3.12/dist-packages (from google-api-core!=2.0.*,!=2.1.*,!=2.10.*,!=2.2.*,!=2.3.*,!=2.4.*,!=2.5.*,!=2.6.*,!=2.7.*,!=2.8.*,!=2.9.*,<3.0.0,>=1.34.1->google-api-core[grpc]!=2.0.*,!=2.1.*,!=2.10.*,!=2.2.*,!=2.3.*,!=2.4.*,!=2.5.*,!=2.6.*,!=2.7.*,!=2.8.*,!=2.9.*,<3.0.0,>=1.34.1->google-ai-generativelanguage<1,>=0.7->langchain_google_genai) (1.70.0)\n",
            "Requirement already satisfied: grpcio<2.0.0,>=1.33.2 in /usr/local/lib/python3.12/dist-packages (from google-api-core[grpc]!=2.0.*,!=2.1.*,!=2.10.*,!=2.2.*,!=2.3.*,!=2.4.*,!=2.5.*,!=2.6.*,!=2.7.*,!=2.8.*,!=2.9.*,<3.0.0,>=1.34.1->google-ai-generativelanguage<1,>=0.7->langchain_google_genai) (1.75.1)\n",
            "Requirement already satisfied: grpcio-status<2.0.0,>=1.33.2 in /usr/local/lib/python3.12/dist-packages (from google-api-core[grpc]!=2.0.*,!=2.1.*,!=2.10.*,!=2.2.*,!=2.3.*,!=2.4.*,!=2.5.*,!=2.6.*,!=2.7.*,!=2.8.*,!=2.9.*,<3.0.0,>=1.34.1->google-ai-generativelanguage<1,>=0.7->langchain_google_genai) (1.71.2)\n",
            "Requirement already satisfied: cachetools<6.0,>=2.0.0 in /usr/local/lib/python3.12/dist-packages (from google-auth!=2.24.0,!=2.25.0,<3.0.0,>=2.14.1->google-ai-generativelanguage<1,>=0.7->langchain_google_genai) (5.5.2)\n",
            "Requirement already satisfied: pyasn1-modules>=0.2.1 in /usr/local/lib/python3.12/dist-packages (from google-auth!=2.24.0,!=2.25.0,<3.0.0,>=2.14.1->google-ai-generativelanguage<1,>=0.7->langchain_google_genai) (0.4.2)\n",
            "Requirement already satisfied: rsa<5,>=3.1.4 in /usr/local/lib/python3.12/dist-packages (from google-auth!=2.24.0,!=2.25.0,<3.0.0,>=2.14.1->google-ai-generativelanguage<1,>=0.7->langchain_google_genai) (4.9.1)\n",
            "Requirement already satisfied: anyio in /usr/local/lib/python3.12/dist-packages (from httpx>=0.25.2->langgraph-sdk<0.3.0,>=0.2.2->langgraph) (4.11.0)\n",
            "Requirement already satisfied: httpcore==1.* in /usr/local/lib/python3.12/dist-packages (from httpx>=0.25.2->langgraph-sdk<0.3.0,>=0.2.2->langgraph) (1.0.9)\n",
            "Requirement already satisfied: h11>=0.16 in /usr/local/lib/python3.12/dist-packages (from httpcore==1.*->httpx>=0.25.2->langgraph-sdk<0.3.0,>=0.2.2->langgraph) (0.16.0)\n",
            "Requirement already satisfied: jsonpointer>=1.9 in /usr/local/lib/python3.12/dist-packages (from jsonpatch<2.0.0,>=1.33.0->langchain-core>=0.3.75->langchain_google_genai) (3.0.0)\n",
            "Requirement already satisfied: pyasn1<0.7.0,>=0.6.1 in /usr/local/lib/python3.12/dist-packages (from pyasn1-modules>=0.2.1->google-auth!=2.24.0,!=2.25.0,<3.0.0,>=2.14.1->google-ai-generativelanguage<1,>=0.7->langchain_google_genai) (0.6.1)\n",
            "Requirement already satisfied: sniffio>=1.1 in /usr/local/lib/python3.12/dist-packages (from anyio->httpx>=0.25.2->langgraph-sdk<0.3.0,>=0.2.2->langgraph) (1.3.1)\n",
            "Downloading langchain_google_genai-2.1.12-py3-none-any.whl (50 kB)\n",
            "\u001b[2K   \u001b[90m━━━━━━━━━━━━━━━━━━━━━━━━━━━━━━━━━━━━━━━━\u001b[0m \u001b[32m50.7/50.7 kB\u001b[0m \u001b[31m3.3 MB/s\u001b[0m eta \u001b[36m0:00:00\u001b[0m\n",
            "\u001b[?25hDownloading langgraph-0.6.9-py3-none-any.whl (156 kB)\n",
            "\u001b[2K   \u001b[90m━━━━━━━━━━━━━━━━━━━━━━━━━━━━━━━━━━━━━━━━\u001b[0m \u001b[32m156.3/156.3 kB\u001b[0m \u001b[31m9.8 MB/s\u001b[0m eta \u001b[36m0:00:00\u001b[0m\n",
            "\u001b[?25hDownloading filetype-1.2.0-py2.py3-none-any.whl (19 kB)\n",
            "Downloading google_ai_generativelanguage-0.7.0-py3-none-any.whl (1.4 MB)\n",
            "\u001b[2K   \u001b[90m━━━━━━━━━━━━━━━━━━━━━━━━━━━━━━━━━━━━━━━━\u001b[0m \u001b[32m1.4/1.4 MB\u001b[0m \u001b[31m42.1 MB/s\u001b[0m eta \u001b[36m0:00:00\u001b[0m\n",
            "\u001b[?25hDownloading langgraph_checkpoint-2.1.2-py3-none-any.whl (45 kB)\n",
            "\u001b[2K   \u001b[90m━━━━━━━━━━━━━━━━━━━━━━━━━━━━━━━━━━━━━━━━\u001b[0m \u001b[32m45.8/45.8 kB\u001b[0m \u001b[31m3.2 MB/s\u001b[0m eta \u001b[36m0:00:00\u001b[0m\n",
            "\u001b[?25hDownloading langgraph_prebuilt-0.6.4-py3-none-any.whl (28 kB)\n",
            "Downloading langgraph_sdk-0.2.9-py3-none-any.whl (56 kB)\n",
            "\u001b[2K   \u001b[90m━━━━━━━━━━━━━━━━━━━━━━━━━━━━━━━━━━━━━━━━\u001b[0m \u001b[32m56.8/56.8 kB\u001b[0m \u001b[31m4.5 MB/s\u001b[0m eta \u001b[36m0:00:00\u001b[0m\n",
            "\u001b[?25hDownloading ormsgpack-1.10.0-cp312-cp312-manylinux_2_17_x86_64.manylinux2014_x86_64.whl (216 kB)\n",
            "\u001b[2K   \u001b[90m━━━━━━━━━━━━━━━━━━━━━━━━━━━━━━━━━━━━━━━━\u001b[0m \u001b[32m216.7/216.7 kB\u001b[0m \u001b[31m14.2 MB/s\u001b[0m eta \u001b[36m0:00:00\u001b[0m\n",
            "\u001b[?25hInstalling collected packages: filetype, ormsgpack, langgraph-sdk, langgraph-checkpoint, google-ai-generativelanguage, langgraph-prebuilt, langchain_google_genai, langgraph\n",
            "  Attempting uninstall: google-ai-generativelanguage\n",
            "    Found existing installation: google-ai-generativelanguage 0.6.15\n",
            "    Uninstalling google-ai-generativelanguage-0.6.15:\n",
            "      Successfully uninstalled google-ai-generativelanguage-0.6.15\n",
            "\u001b[31mERROR: pip's dependency resolver does not currently take into account all the packages that are installed. This behaviour is the source of the following dependency conflicts.\n",
            "google-generativeai 0.8.5 requires google-ai-generativelanguage==0.6.15, but you have google-ai-generativelanguage 0.7.0 which is incompatible.\u001b[0m\u001b[31m\n",
            "\u001b[0mSuccessfully installed filetype-1.2.0 google-ai-generativelanguage-0.7.0 langchain_google_genai-2.1.12 langgraph-0.6.9 langgraph-checkpoint-2.1.2 langgraph-prebuilt-0.6.4 langgraph-sdk-0.2.9 ormsgpack-1.10.0\n"
          ]
        },
        {
          "output_type": "display_data",
          "data": {
            "application/vnd.colab-display-data+json": {
              "pip_warning": {
                "packages": [
                  "google"
                ]
              },
              "id": "a51c930a4fd74d60ae12c22ee08e66f2"
            }
          },
          "metadata": {}
        }
      ]
    },
    {
      "cell_type": "code",
      "source": [
        "!pip install newsapi-python"
      ],
      "metadata": {
        "colab": {
          "base_uri": "https://localhost:8080/"
        },
        "id": "HWFha_XZ605Q",
        "outputId": "13dff371-df6d-4f89-c1b4-afbde53856cf"
      },
      "execution_count": null,
      "outputs": [
        {
          "output_type": "stream",
          "name": "stdout",
          "text": [
            "Requirement already satisfied: newsapi-python in /usr/local/lib/python3.12/dist-packages (0.2.7)\n",
            "Requirement already satisfied: requests<3.0.0 in /usr/local/lib/python3.12/dist-packages (from newsapi-python) (2.32.4)\n",
            "Requirement already satisfied: charset_normalizer<4,>=2 in /usr/local/lib/python3.12/dist-packages (from requests<3.0.0->newsapi-python) (3.4.3)\n",
            "Requirement already satisfied: idna<4,>=2.5 in /usr/local/lib/python3.12/dist-packages (from requests<3.0.0->newsapi-python) (3.10)\n",
            "Requirement already satisfied: urllib3<3,>=1.21.1 in /usr/local/lib/python3.12/dist-packages (from requests<3.0.0->newsapi-python) (2.5.0)\n",
            "Requirement already satisfied: certifi>=2017.4.17 in /usr/local/lib/python3.12/dist-packages (from requests<3.0.0->newsapi-python) (2025.8.3)\n"
          ]
        }
      ]
    },
    {
      "cell_type": "code",
      "source": [
        "!pip install sec-api"
      ],
      "metadata": {
        "colab": {
          "base_uri": "https://localhost:8080/"
        },
        "id": "UWncRlwJV6vx",
        "outputId": "3c5edd2a-9ac2-47c2-e975-17867cae469e"
      },
      "execution_count": null,
      "outputs": [
        {
          "output_type": "stream",
          "name": "stdout",
          "text": [
            "Requirement already satisfied: sec-api in /usr/local/lib/python3.12/dist-packages (1.0.32)\n",
            "Requirement already satisfied: requests in /usr/local/lib/python3.12/dist-packages (from sec-api) (2.32.4)\n",
            "Requirement already satisfied: charset_normalizer<4,>=2 in /usr/local/lib/python3.12/dist-packages (from requests->sec-api) (3.4.3)\n",
            "Requirement already satisfied: idna<4,>=2.5 in /usr/local/lib/python3.12/dist-packages (from requests->sec-api) (3.10)\n",
            "Requirement already satisfied: urllib3<3,>=1.21.1 in /usr/local/lib/python3.12/dist-packages (from requests->sec-api) (2.5.0)\n",
            "Requirement already satisfied: certifi>=2017.4.17 in /usr/local/lib/python3.12/dist-packages (from requests->sec-api) (2025.8.3)\n"
          ]
        }
      ]
    },
    {
      "cell_type": "markdown",
      "source": [
        "This cell imports the necessary libraries for the project: `yfinance` for fetching stock data, `langchain_google_genai` for using the Google Generative AI models with Langchain, `json` for working with JSON data, `typing` for type hinting, and `langgraph` for building the agent graph."
      ],
      "metadata": {
        "id": "GPDK0-8Pz1lJ"
      }
    },
    {
      "cell_type": "code",
      "source": [
        "from google.colab import userdata\n",
        "from langchain_google_genai import ChatGoogleGenerativeAI\n",
        "import json\n",
        "import yfinance as yf\n",
        "from typing import TypedDict, List, Dict\n",
        "from langgraph.graph import StateGraph, END, START\n",
        "from langchain_core.output_parsers import StrOutputParser\n",
        "from langchain_core.prompts import ChatPromptTemplate\n",
        "from langchain_core.output_parsers import JsonOutputParser"
      ],
      "metadata": {
        "id": "UbCdFhQJ5V6H"
      },
      "execution_count": null,
      "outputs": []
    },
    {
      "cell_type": "markdown",
      "source": [
        "This cell retrieves the secret API keys for Gemini, News API, and SEC API from the Colab user data. These keys are necessary to authenticate and use the respective services."
      ],
      "metadata": {
        "id": "HhFMSVGD0OTx"
      }
    },
    {
      "cell_type": "code",
      "source": [
        "# Retrieve the secret key\n",
        "gemini_api_key=userdata.get(\"GEMINI_API_KEY\")\n",
        "news_api=userdata.get(\"NewsApi\")\n",
        "sec_api=userdata.get(\"SecAPI\")\n"
      ],
      "metadata": {
        "id": "uqDNm7vu4w26"
      },
      "execution_count": null,
      "outputs": []
    },
    {
      "cell_type": "markdown",
      "source": [
        "This cell initializes the `ChatGoogleGenerativeAI` model from Langchain, specifying the model name (`gemini-2.5-flash-lite`), temperature, and providing the Gemini API key. This `llm` object will be used for generating text and parsing outputs in the agents."
      ],
      "metadata": {
        "id": "aB8rNR080SU3"
      }
    },
    {
      "cell_type": "code",
      "source": [
        "## LLM for our project\n",
        "llm = ChatGoogleGenerativeAI(model='gemini-2.5-flash-lite', temperature=0.2, api_key=gemini_api_key)\n"
      ],
      "metadata": {
        "id": "b1qPmT-hVzSt"
      },
      "execution_count": null,
      "outputs": []
    },
    {
      "cell_type": "markdown",
      "source": [
        "## Define State\n",
        "\n",
        "This cell defines the `ResearchState` TypedDict, which represents the state of our research agent. It includes fields to store the stock symbol, company profile, research plan, retrieved data, draft report, critique, final report, run memory, and evaluation count."
      ],
      "metadata": {
        "id": "3pAbVwwsxoGb"
      }
    },
    {
      "cell_type": "code",
      "execution_count": null,
      "metadata": {
        "id": "wr7FbQ22z1Qw"
      },
      "outputs": [],
      "source": [
        "\n",
        "class ResearchState(TypedDict):\n",
        "    stock_symbol: str           # The input stock symbol\n",
        "    company_profile: Dict       # To hold sector, industry, summary\n",
        "    research_plan: List[str]    # The plan generated by the Planner Agent\n",
        "    retrieved_data: Dict        # A dictionary to store data from tools (news, financials, etc.)\n",
        "    draft_report: str           # The initial analysis/report\n",
        "    critique: str               # Feedback from the Evaluator Agent\n",
        "    final_report: str           # The polished, final report\n",
        "    evaluation_count: int       # To limit evaluation-generation loop"
      ]
    },
    {
      "cell_type": "markdown",
      "source": [
        "## Tools\n"
      ],
      "metadata": {
        "id": "U4EiEB7gxhI1"
      }
    },
    {
      "cell_type": "markdown",
      "source": [
        "### News Tool"
      ],
      "metadata": {
        "id": "1ILTJLX2UxSD"
      }
    },
    {
      "cell_type": "markdown",
      "source": [
        "This cell defines the `fetch_news` tool using the `@tool` decorator from `langchain_core.tools`.\n",
        "\n",
        "This tool fetches recent news articles for a given stock symbol using the News API and returns a formatted string of the top 5 articles."
      ],
      "metadata": {
        "id": "UgVO5xp51MJ2"
      }
    },
    {
      "cell_type": "code",
      "source": [
        "from langchain_core.tools import tool\n",
        "from newsapi import NewsApiClient\n",
        "# Init\n",
        "newsapi = NewsApiClient(api_key=news_api)\n",
        "\n",
        "@tool\n",
        "def fetch_news(stock_symbol: str) -> str:\n",
        "    \"\"\"\n",
        "    Orchestrates news chaining: Ingest → Preprocess → Classify → Extract → Summarize.\n",
        "    Calls modular sub-functions for each step.\n",
        "    \"\"\"\n",
        "    try:\n",
        "        # Step 1: Ingest - Fetch raw articles\n",
        "        articles_response = newsapi.get_everything(\n",
        "            q=f'\"{stock_symbol}\"',\n",
        "            language='en',\n",
        "            sort_by='relevancy',\n",
        "            page_size=5\n",
        "        )\n",
        "        articles = articles_response['articles']\n",
        "        if not articles:\n",
        "            return f\"No relevant news found for {stock_symbol}.\"\n",
        "\n",
        "        print(f\"---CHAINING NEWS FOR {stock_symbol} (Ingested {len(articles)} articles)---\")\n",
        "\n",
        "        # Step 2: Preprocess\n",
        "        raw_texts = preprocess_articles(articles)\n",
        "\n",
        "        # Step 3: Classify\n",
        "        articles_list = [{\"title\": text.split('\\n')[0].replace(\"Title: \", \"\"), \"content\": text.split('Content: ')[1]} for text in raw_texts if '\\n' in text]\n",
        "        sentiments = classify_sentiments(stock_symbol, articles_list)\n",
        "\n",
        "        # Step 4: Extract\n",
        "        entities = extract_entities(raw_texts)\n",
        "\n",
        "        # Step 5: Summarize\n",
        "        summary = summarize_insights(stock_symbol, sentiments, entities)\n",
        "\n",
        "        # Format final output\n",
        "        preprocessed_text = \"\\n\\n---\\n\\n\".join(raw_texts)\n",
        "        chained_output = f\"\"\"--- Chained News Analysis for {stock_symbol} ---\n",
        "\n",
        "        **Sentiments (per article):**\n",
        "        {json.dumps(sentiments, indent=2)}\n",
        "\n",
        "        **Extracted Entities:**\n",
        "        {json.dumps(entities, indent=2)}\n",
        "\n",
        "        **Summary Insights:**\n",
        "        {summary}\n",
        "\n",
        "        **Raw Preprocessed Texts (for reference):**\n",
        "        {preprocessed_text[:500]}...\"\"\"\n",
        "\n",
        "        return chained_output.strip()\n",
        "\n",
        "    except Exception as e:\n",
        "        print(f\"--- Chain Error Details: {e} ---\")\n",
        "        return f\"Error in news chaining for {stock_symbol}: {e}\"\n",
        "\n",
        "# Test news chaining\n",
        "# news_result = fetch_news.invoke(\"NVDA\")\n",
        "# print(news_result)"
      ],
      "metadata": {
        "id": "mzxjk9UWE7XY"
      },
      "execution_count": null,
      "outputs": []
    },
    {
      "cell_type": "code",
      "source": [
        "# --- Sub-Functions for News Chaining (Modular Steps) ---\n",
        "def preprocess_articles(articles: List[Dict]) -> List[str]:\n",
        "    \"\"\"\n",
        "    Step 2: Preprocess - Clean and extract texts from raw articles.\n",
        "    Returns list of formatted strings for chaining.\n",
        "    \"\"\"\n",
        "    try:\n",
        "        raw_texts = []\n",
        "        for article in articles:\n",
        "            title = article.get('title', 'N/A')\n",
        "            description = (article.get('description', '') or 'No content available.')[:250]\n",
        "            raw_texts.append(f\"Title: {title}\\nContent: {description}\")\n",
        "        print(\"--- Preprocessed: Extracted texts from articles ---\")\n",
        "        return raw_texts\n",
        "    except Exception as e:\n",
        "        print(f\"--- Preprocess Error: {e} ---\")\n",
        "        return []"
      ],
      "metadata": {
        "id": "FQz3gs6JT_vI"
      },
      "execution_count": null,
      "outputs": []
    },
    {
      "cell_type": "code",
      "source": [
        "def classify_sentiments(stock_symbol: str, articles_list: List[Dict]) -> List[Dict]:\n",
        "    \"\"\"\n",
        "    Step 3: Classify - LLM chain for sentiment per article.\n",
        "    Returns list of dicts: [{'title': ..., 'sentiment': 'bullish'}]\n",
        "    \"\"\"\n",
        "    try:\n",
        "        class_template = \"\"\"Classify sentiment of each article as 'bullish', 'bearish', or 'neutral' for {stock_symbol}.\n",
        "        Articles: {articles}\n",
        "\n",
        "        Output ONLY valid JSON: {{\"articles\": [{{\"title\": \"title1\", \"sentiment\": \"bullish\"}}, ...]}}. No extra text.\"\"\"\n",
        "        class_prompt = ChatPromptTemplate.from_template(class_template)\n",
        "        class_chain = class_prompt | llm | JsonOutputParser()\n",
        "        sentiments_json = class_chain.invoke({\n",
        "            \"stock_symbol\": stock_symbol,\n",
        "            \"articles\": json.dumps(articles_list, indent=2)\n",
        "        })\n",
        "        sentiments = sentiments_json.get('articles', [])\n",
        "        print(f\"--- Classified: {len(sentiments)} sentiments (e.g., {sentiments[0]['sentiment'] if sentiments else 'None'}) ---\")\n",
        "        return sentiments\n",
        "    except Exception as e:\n",
        "        print(f\"--- Classify Error: {e} ---\")\n",
        "        return []"
      ],
      "metadata": {
        "id": "tI8bi95KUF0P"
      },
      "execution_count": null,
      "outputs": []
    },
    {
      "cell_type": "code",
      "source": [
        "def extract_entities(raw_texts: List[str]) -> List[Dict]:\n",
        "    \"\"\"\n",
        "    Step 4: Extract - LLM chain for key financial entities per text.\n",
        "    Returns list of dicts: [{'title': ..., 'entities': ['AI growth', 'China ban']}]\n",
        "    \"\"\"\n",
        "    try:\n",
        "        texts_joined = \"\\n\\n\".join(raw_texts)\n",
        "        extract_template = \"\"\"Extract key financial entities (e.g., 'earnings beat', 'China ban', 'AI growth') from texts: {texts}.\n",
        "        Output ONLY valid JSON: {{\"articles\": [{{\"title\": \"Title1\", \"entities\": [\"entity1\"]}}, ...]}}. No extra text.\"\"\"\n",
        "        extract_prompt = ChatPromptTemplate.from_template(extract_template)\n",
        "        extract_chain = extract_prompt | llm | JsonOutputParser()\n",
        "        entities_json = extract_chain.invoke({\"texts\": texts_joined})\n",
        "        entities = entities_json.get('articles', [])\n",
        "        print(f\"--- Extracted: Entities from {len(entities)} items ---\")\n",
        "        return entities\n",
        "    except Exception as e:\n",
        "        print(f\"--- Extract Error: {e} ---\")\n",
        "        return []"
      ],
      "metadata": {
        "id": "bEZcMNH2UDUp"
      },
      "execution_count": null,
      "outputs": []
    },
    {
      "cell_type": "code",
      "source": [
        "def summarize_insights(stock_symbol: str, sentiments: List[Dict], entities: List[Dict]) -> str:\n",
        "    \"\"\"\n",
        "    Step 5: Summarize - LLM chain for top insights.\n",
        "    Returns bullet-point string.\n",
        "    \"\"\"\n",
        "    try:\n",
        "        sum_template = \"\"\"Summarize top 3-5 insights for {stock_symbol} from sentiments: {sentiments} and entities: {entities}.\n",
        "        Focus on trends, risks, opportunities. Output as bullet points—no JSON.\"\"\"\n",
        "        sum_prompt = ChatPromptTemplate.from_template(sum_template)\n",
        "        sum_chain = sum_prompt | llm | StrOutputParser()\n",
        "        summary = sum_chain.invoke({\n",
        "            \"stock_symbol\": stock_symbol,\n",
        "            \"sentiments\": json.dumps(sentiments, indent=2),\n",
        "            \"entities\": json.dumps(entities, indent=2)\n",
        "        })\n",
        "        print(\"--- Summarized: Generated insights ---\")\n",
        "        return summary\n",
        "    except Exception as e:\n",
        "        print(f\"--- Summarize Error: {e} ---\")\n",
        "        return \"Summary unavailable due to error.\""
      ],
      "metadata": {
        "id": "aTWbC3-6UB25"
      },
      "execution_count": null,
      "outputs": []
    },
    {
      "cell_type": "markdown",
      "source": [
        "This cell defines the `fetch_financials` tool, which uses the `yfinance` library to fetch key financial data (Total Revenue, Net Income, Total Assets, Total Liabilities) from the most recent annual income statement and balance sheet for a given stock symbol."
      ],
      "metadata": {
        "id": "PK_GD3gi1S_D"
      }
    },
    {
      "cell_type": "markdown",
      "source": [
        "### Finance Tool"
      ],
      "metadata": {
        "id": "1qaym1lWU1eD"
      }
    },
    {
      "cell_type": "code",
      "source": [
        "@tool\n",
        "def fetch_financials(stock_symbol: str) -> str:\n",
        "    \"\"\"\n",
        "    Fetches key financial data from the most recent annual Income Statement\n",
        "    and Balance Sheet for a given stock symbol.\n",
        "    \"\"\"\n",
        "    try:\n",
        "        ticker = yf.Ticker(stock_symbol)\n",
        "\n",
        "        # Get the most recent annual data\n",
        "        income_stmt = ticker.financials\n",
        "        balance_sheet = ticker.balance_sheet\n",
        "\n",
        "        if income_stmt.empty or balance_sheet.empty:\n",
        "            return f\"Could not retrieve financial data for {stock_symbol}. It may be a delisted or invalid ticker.\"\n",
        "\n",
        "        # Select the most recent year's column\n",
        "        latest_year_income = income_stmt.iloc[:, 0]\n",
        "        latest_year_balance = balance_sheet.iloc[:, 0]\n",
        "\n",
        "        # Extract key metrics, using .get() for safety\n",
        "        total_revenue = latest_year_income.get('Total Revenue', 'N/A')\n",
        "        net_income = latest_year_income.get('Net Income', 'N/A')\n",
        "        total_assets = latest_year_balance.get('Total Assets', 'N/A')\n",
        "        total_liabilities = latest_year_balance.get('Total Liabilities Net Minority Interest', 'N/A')\n",
        "\n",
        "        # Format everything into a clean string for the LLM\n",
        "        # Using a helper to format numbers makes it more readable\n",
        "        def format_currency(value):\n",
        "            if isinstance(value, (int, float)):\n",
        "                return f\"${value:,.0f}\"\n",
        "            return \"N/A\"\n",
        "\n",
        "        report = f\"\"\"--- Key Financials for {stock_symbol} (Most Recent Year) ---\n",
        "\n",
        "        **Income Statement:**\n",
        "        - Total Revenue: {format_currency(total_revenue)}\n",
        "        - Net Income: {format_currency(net_income)}\n",
        "\n",
        "        **Balance Sheet:**\n",
        "        - Total Assets: {format_currency(total_assets)}\n",
        "        - Total Liabilities: {format_currency(total_liabilities)}\n",
        "        \"\"\"\n",
        "        return report.strip()\n",
        "\n",
        "    except Exception as e:\n",
        "        return f\"An error occurred while fetching financials for {stock_symbol}: {e}\"\n",
        "\n",
        "# --- Example Usage ---\n",
        "# print(fetch_financials.invoke(\"NVDA\"))"
      ],
      "metadata": {
        "id": "9jqiYE4uAodS"
      },
      "execution_count": null,
      "outputs": []
    },
    {
      "cell_type": "markdown",
      "source": [
        "This cell defines the `fetch_sec_filings` tool. This tool uses the SEC API to find the latest 10-K filing for a stock, extract the 'Risk Factors' and 'Management\\'s Discussion and Analysis' sections, and provide a concise summary of both. It utilizes the `llm` to summarize the extracted text."
      ],
      "metadata": {
        "id": "p4BFwEAF1ZCE"
      }
    },
    {
      "cell_type": "markdown",
      "source": [
        "### SEC Tool"
      ],
      "metadata": {
        "id": "eDzVdcxGU4dV"
      }
    },
    {
      "cell_type": "code",
      "source": [
        "from sec_api import QueryApi, ExtractorApi\n",
        "queryApi = QueryApi(api_key=sec_api)\n",
        "extractorApi = ExtractorApi(api_key=sec_api)\n",
        "\n",
        "@tool\n",
        "def fetch_sec_filings(stock_symbol: str) -> str:\n",
        "    \"\"\"\n",
        "    Finds the latest 10-K filing for a stock, extracts the 'Risk Factors'\n",
        "    and 'Management's Discussion and Analysis' sections, and returns\n",
        "    a concise summary of both.\n",
        "    \"\"\"\n",
        "    try:\n",
        "        # --- STEP 1: Find the latest 10-K filing URL ---\n",
        "        query = {\n",
        "          \"query\": { \"query_string\": { \"query\": f'ticker:\"{stock_symbol}\" AND formType:\"10-K\"' }},\n",
        "          \"from\": \"0\",\n",
        "          \"size\": \"1\",\n",
        "          \"sort\": [{ \"filedAt\": { \"order\": \"desc\" }}]\n",
        "        }\n",
        "        filings = queryApi.get_filings(query)\n",
        "\n",
        "        if not filings['filings']:\n",
        "            return f\"No recent 10-K filings found for {stock_symbol}.\"\n",
        "\n",
        "        # Get the URL of the filing\n",
        "        filing_url=filings['filings'][0]['linkToFilingDetails']\n",
        "\n",
        "        # --- STEP 2: Extract the sections using the Extractor API ---\n",
        "        # Get Item 1A: Risk Factors\n",
        "        risk_factors_text = extractorApi.get_section(\n",
        "            filing_url=filing_url,\n",
        "            section=\"1A\", # The item code for Risk Factors\n",
        "            return_type=\"text\"\n",
        "        )\n",
        "\n",
        "        # Get Item 7: Management's Discussion and Analysis\n",
        "        mda_text = extractorApi.get_section(\n",
        "            filing_url=filing_url,\n",
        "            section=\"7\", # The item code for MD&A\n",
        "            return_type=\"text\"\n",
        "        )\n",
        "\n",
        "        # --- STEP 3: Summarize the extracted text ---\n",
        "        template=\"Summarize the key takeaways from this text in 5 bullet points:\\n\\n{text}\"\n",
        "        prompt = ChatPromptTemplate.from_template(template)\n",
        "        chain = prompt | llm | StrOutputParser()\n",
        "        risk_summary = chain.invoke({\"text\": risk_factors_text})\n",
        "        mda_summary = chain.invoke({\"text\": mda_text})\n",
        "        summary = f'''The 'Risk Factors' summary is: {risk_summary} and \\n\\n\n",
        "        \"Management's Discussion and Analysis\" summary is: {mda_summary}'''\n",
        "\n",
        "        return summary.strip()\n",
        "\n",
        "    except Exception as e:\n",
        "        return f\"An error occurred while fetching or processing SEC filings for {stock_symbol}: {e}\"\n",
        "\n",
        "# --- Example Usage ---\n",
        "# Make sure your SEC_API_KEY is set as an environment variable\n",
        "# print(fetch_sec_filings.invoke(\"AAPL\"))"
      ],
      "metadata": {
        "id": "5QacsaYa79nJ"
      },
      "execution_count": null,
      "outputs": []
    },
    {
      "cell_type": "markdown",
      "source": [
        "This cell defines the `fetch_market_data` tool, which fetches key market performance data, including the most recent analyst recommendations for a given stock symbol using `yfinance`."
      ],
      "metadata": {
        "id": "xaaEtqfW1hHy"
      }
    },
    {
      "cell_type": "markdown",
      "source": [
        "### Market Tool"
      ],
      "metadata": {
        "id": "QAal3tmHU66m"
      }
    },
    {
      "cell_type": "code",
      "source": [
        "@tool\n",
        "def fetch_market_data(stock_symbol: str) -> str:\n",
        "    \"\"\"\n",
        "    Fetches key market performance data, including the most recent analyst recommendations\n",
        "    for a given stock symbol.\n",
        "    \"\"\"\n",
        "    try:\n",
        "        ticker = yf.Ticker(stock_symbol)\n",
        "        info = ticker.info\n",
        "\n",
        "        # A simple check for valid data. If a ticker is invalid, info is often missing keys.\n",
        "        if not info or info.get('marketCap') is None:\n",
        "             return f\"Could not retrieve market data for {stock_symbol}. It may be a delisted or invalid ticker.\"\n",
        "\n",
        "        # Get key market metrics\n",
        "        fifty_two_week_high = info.get('fiftyTwoWeekHigh', 'N/A')  # Highest price the stock has traded at over the last 52 weeks\n",
        "        fifty_two_week_low = info.get('fiftyTwoWeekLow', 'N/A')  # Lowest price the stock has traded at over the past 52 weeks\n",
        "        market_cap = info.get('marketCap', 'N/A') # Total company valuation\n",
        "        beta = info.get('beta', 'N/A') # Volatility vs. market (Beta measures how much a stock's price moves compared to the overall market.)\n",
        "\n",
        "        # --- ANALYST RECOMMENDATIONS ---\n",
        "        recs = ticker.recommendations\n",
        "        analyst_consensus = \"N/A\" # Default value\n",
        "\n",
        "        if recs is not None and not recs.empty:\n",
        "            # Get only the most recent ratings (the first row of the DataFrame)\n",
        "            most_recent_ratings = recs.iloc[0] # for the latest data\n",
        "\n",
        "            # Safely get values using .get(), defaulting to 0 if a category is missing\n",
        "            buy_ratings = most_recent_ratings.get('strongBuy', 0) + most_recent_ratings.get('buy', 0)\n",
        "            total_ratings = most_recent_ratings.get('strongBuy', 0) + most_recent_ratings.get('buy', 0) + \\\n",
        "                            most_recent_ratings.get('hold', 0) + most_recent_ratings.get('sell', 0) + \\\n",
        "                            most_recent_ratings.get('strongSell', 0)\n",
        "\n",
        "            if total_ratings > 0:\n",
        "                analyst_consensus = f\"{buy_ratings} of the {total_ratings} most recent analyst ratings are 'Buy' or 'Strong Buy'.\"\n",
        "\n",
        "        # Helper function to format large numbers for better readability\n",
        "        def format_large_number(value):\n",
        "            if isinstance(value, (int, float)):\n",
        "                if value > 1_000_000_000_000:\n",
        "                    return f\"${value/1_000_000_000_000:.2f} T\"\n",
        "                elif value > 1_000_000_000:\n",
        "                    return f\"${value/1_000_000_000:.2f} B\"\n",
        "                elif value > 1_000_000:\n",
        "                    return f\"${value/1_000_000:.2f} M\"\n",
        "                return f\"${value:,.2f}\"\n",
        "            return \"N/A\"\n",
        "\n",
        "        # Assemble the final report string\n",
        "        report = f\"\"\"--- Market Data Snapshot for {stock_symbol} ---\n",
        "\n",
        "**Performance & Valuation:**\n",
        "- Market Cap: {format_large_number(market_cap)}\n",
        "- 52-Week Range: {format_large_number(fifty_two_week_low)} - {format_large_number(fifty_two_week_high)}\n",
        "- Beta (Volatility vs. Market): {beta}\n",
        "\n",
        "**Analyst Sentiment:**\n",
        "- Consensus: {analyst_consensus}\n",
        "        \"\"\"\n",
        "        return report.strip()\n",
        "\n",
        "    except Exception as e:\n",
        "        return f\"An error occurred while fetching market data for {stock_symbol}: {e}\"\n",
        "\n",
        "# --- Example Usage ---\n",
        "# print(fetch_market_data.invoke(\"NVDA\"))\n",
        "# print(fetch_market_data.invoke(\"DUK\"))"
      ],
      "metadata": {
        "id": "3xW07dcduqt7"
      },
      "execution_count": null,
      "outputs": []
    },
    {
      "cell_type": "markdown",
      "source": [
        "## Agents"
      ],
      "metadata": {
        "id": "1KyLgTjhx10Y"
      }
    },
    {
      "cell_type": "markdown",
      "source": [
        "This cell defines the `profiler_agent` function, which acts as a node in the LangGraph. It takes the current state as input, extracts the stock symbol, and uses `yfinance` to fetch a high-level company profile (sector, industry, and a truncated business summary). It updates the state with the company profile and initializes the evaluation count."
      ],
      "metadata": {
        "id": "n7OgpZsd1sL3"
      }
    },
    {
      "cell_type": "code",
      "source": [
        "# Profiler Node\n",
        "def profiler_agent(state: ResearchState):\n",
        "    \"\"\"Fetches a high-level company profile.\"\"\"\n",
        "    print(\"---PROFILING COMPANY---\")\n",
        "    stock_symbol = state['stock_symbol']\n",
        "    print(f\"Profiler agent: Processing symbol {stock_symbol}\")\n",
        "\n",
        "    ticker = yf.Ticker(stock_symbol)\n",
        "    profile = {\n",
        "        \"sector\": ticker.info.get('sector', 'N/A'),\n",
        "        \"industry\": ticker.info.get('industry', 'N/A'),\n",
        "        \"summary\": ticker.info.get('longBusinessSummary', 'N/A')[:500] # Truncate for prompt\n",
        "    }\n",
        "    print(f\"Profiler agent: Fetched profile for {stock_symbol}\")\n",
        "\n",
        "    return {\"company_profile\": profile, \"evaluation_count\": 0}"
      ],
      "metadata": {
        "id": "RDDmUYU_34Do"
      },
      "execution_count": null,
      "outputs": []
    },
    {
      "cell_type": "markdown",
      "source": [
        "This cell defines the `planner_agent` function, another node in the LangGraph. It takes the current state, extracts the company profile, and uses the `llm` with a specific prompt to generate a prioritized research plan based on the company's sector, industry, and summary. The plan is output as a JSON formatted list of strings and updates the state."
      ],
      "metadata": {
        "id": "HvP6nyM5127r"
      }
    },
    {
      "cell_type": "code",
      "source": [
        "# Planner Node\n",
        "def planner_agent(state: ResearchState):\n",
        "    \"\"\"Generates a research plan based on the company profile.\"\"\"\n",
        "    print(\"---CREATING DYNAMIC PLAN---\")\n",
        "    profile = state['company_profile']\n",
        "    stock_symbol = state['stock_symbol']\n",
        "    print(f\"Planner agent: Creating plan for {stock_symbol} based on profile.\")\n",
        "\n",
        "    template = \"\"\"\n",
        "    You are a senior investment analyst. Based on the following company profile, create a prioritized, step-by-step research plan.\n",
        "    Available steps are: 'fetch_news', 'fetch_financials', 'fetch_sec_filings', 'fetch_market_data'.\n",
        "\n",
        "    Company Profile:\n",
        "    - Sector: {sector}\n",
        "    - Industry: {industry}\n",
        "    - Summary: {summary}\n",
        "\n",
        "    For a company in this sector and industry, what are the most critical research steps to take?\n",
        "    For example, for a fast-moving tech company, news might be more critical than for a stable utility company.\n",
        "\n",
        "    Output your plan as a JSON formatted list of strings.\n",
        "    \"\"\"\n",
        "    prompt = ChatPromptTemplate.from_template(template)\n",
        "    # ... (LLM call and parsing logic)\n",
        "    chain = prompt | llm | JsonOutputParser()\n",
        "    response = chain.invoke({\n",
        "              \"sector\": profile[\"sector\"],\n",
        "              \"industry\": profile[\"industry\"],\n",
        "              \"summary\": profile[\"summary\"]\n",
        "          })\n",
        "    print(f\"Planner agent: Generated plan: {response}\")\n",
        "\n",
        "    return {\"research_plan\": response}"
      ],
      "metadata": {
        "id": "W3o7frWb4Ve3"
      },
      "execution_count": null,
      "outputs": []
    },
    {
      "cell_type": "markdown",
      "source": [
        "This cell initializes a `StateGraph` with the defined `ResearchState`. This graph will be used to define the workflow of our research agent (this is just an example, complete workflow is defined after other nodes are developed).  "
      ],
      "metadata": {
        "id": "aE5T9O7m2BPn"
      }
    },
    {
      "cell_type": "code",
      "source": [
        "graph=StateGraph(ResearchState)"
      ],
      "metadata": {
        "id": "7AKc5Esu5dGX"
      },
      "execution_count": null,
      "outputs": []
    },
    {
      "cell_type": "markdown",
      "source": [
        "This cell adds the `profiler` and `planner` nodes to the graph. It sets the `profiler` as the entry point and adds an edge from `profiler` to `planner` and from `planner` to `END`, creating a simple initial graph. It then compiles the graph."
      ],
      "metadata": {
        "id": "35nPx16a3n0E"
      }
    },
    {
      "cell_type": "code",
      "source": [
        "graph.add_node('profiler', profiler_agent)\n",
        "graph.add_node('planner', planner_agent)\n",
        "\n",
        "graph.set_entry_point(\"profiler\")\n",
        "graph.add_edge('profiler', 'planner')\n",
        "graph.add_edge('planner', END)\n",
        "app=graph.compile()\n",
        "app"
      ],
      "metadata": {
        "colab": {
          "base_uri": "https://localhost:8080/",
          "height": 350
        },
        "id": "rnrDFhzk5ryH",
        "outputId": "ed2153c3-1bb1-4043-ed54-3002f016ccd8"
      },
      "execution_count": null,
      "outputs": [
        {
          "output_type": "execute_result",
          "data": {
            "text/plain": [
              "<langgraph.graph.state.CompiledStateGraph object at 0x7a13cd5ecfb0>"
            ],
            "image/png": "[encoded data removed]"
          },
          "metadata": {},
          "execution_count": 20
        }
      ]
    },
    {
      "cell_type": "markdown",
      "metadata": {
        "id": "fbf9c5e7"
      },
      "source": [
        "This section shows how the output of the `profiler_agent` is used as input for the `planner_agent`. The planner uses the company profile (sector, industry, and summary) to generate a tailored research plan, deciding which tools (`fetch_news`, `fetch_financials`, etc.) are most relevant and in what order they should be called for that specific company. This demonstrates the dynamic nature of the agent's workflow based on the initial profiling."
      ]
    },
    {
      "cell_type": "markdown",
      "source": [
        "This cell invokes the compiled graph with the stock symbol 'AAPL' as input. It runs the defined workflow (profiler then planner) and stores the final state in the `final_state` variable."
      ],
      "metadata": {
        "id": "Ggu5EhWb3xFW"
      }
    },
    {
      "cell_type": "code",
      "source": [
        "final_state=app.invoke({'stock_symbol':'AAPL'})"
      ],
      "metadata": {
        "colab": {
          "base_uri": "https://localhost:8080/"
        },
        "id": "xQfY2bZy6HPX",
        "outputId": "3c9bc6b8-47ef-4f63-a53d-4de7fe7f82a1"
      },
      "execution_count": null,
      "outputs": [
        {
          "output_type": "stream",
          "name": "stdout",
          "text": [
            "---PROFILING COMPANY---\n",
            "Profiler agent: Processing symbol AAPL\n",
            "Profiler agent: Fetched profile for AAPL\n",
            "---CREATING DYNAMIC PLAN---\n",
            "Planner agent: Creating plan for AAPL based on profile.\n",
            "Planner agent: Generated plan: ['fetch_news', 'fetch_financials', 'fetch_sec_filings', 'fetch_market_data']\n"
          ]
        }
      ]
    },
    {
      "cell_type": "markdown",
      "source": [
        "This cell displays the `final_state` dictionary after the execution of the graph with 'AAPL'. It shows the updated state with the company profile and research plan generated by the agents."
      ],
      "metadata": {
        "id": "eMpXfEB937qV"
      }
    },
    {
      "cell_type": "code",
      "source": [
        "final_state"
      ],
      "metadata": {
        "colab": {
          "base_uri": "https://localhost:8080/"
        },
        "id": "takEM0IZ9kG_",
        "outputId": "26facc73-8d93-4eb9-e6cd-d12d580981d3"
      },
      "execution_count": null,
      "outputs": [
        {
          "output_type": "execute_result",
          "data": {
            "text/plain": [
              "{'stock_symbol': 'AAPL',\n",
              " 'company_profile': {'sector': 'Technology',\n",
              "  'industry': 'Consumer Electronics',\n",
              "  'summary': 'Apple Inc. designs, manufactures, and markets smartphones, personal computers, tablets, wearables, and accessories worldwide. The company offers iPhone, a line of smartphones; Mac, a line of personal computers; iPad, a line of multi-purpose tablets; and wearables, home, and accessories comprising AirPods, Apple TV, Apple Watch, Beats products, and HomePod. It also provides AppleCare support and cloud services; and operates various platforms, including the App Store that allow customers to discov'},\n",
              " 'research_plan': ['fetch_news',\n",
              "  'fetch_financials',\n",
              "  'fetch_sec_filings',\n",
              "  'fetch_market_data'],\n",
              " 'evaluation_count': 0}"
            ]
          },
          "metadata": {},
          "execution_count": 22
        }
      ]
    },
    {
      "cell_type": "markdown",
      "source": [
        "This cell invokes the compiled graph with the stock symbol 'DUK' as input."
      ],
      "metadata": {
        "id": "O_mp8kEg4C92"
      }
    },
    {
      "cell_type": "code",
      "source": [
        "app.invoke({'stock_symbol':'DUK'})\n"
      ],
      "metadata": {
        "colab": {
          "base_uri": "https://localhost:8080/"
        },
        "id": "jQofZ8gZ9lcC",
        "outputId": "bbd47b42-096a-4cd0-9343-352fed2cc513"
      },
      "execution_count": null,
      "outputs": [
        {
          "output_type": "stream",
          "name": "stdout",
          "text": [
            "---PROFILING COMPANY---\n",
            "Profiler agent: Processing symbol DUK\n",
            "Profiler agent: Fetched profile for DUK\n",
            "---CREATING DYNAMIC PLAN---\n",
            "Planner agent: Creating plan for DUK based on profile.\n",
            "Planner agent: Generated plan: ['fetch_financials', 'fetch_sec_filings', 'fetch_market_data', 'fetch_news']\n"
          ]
        },
        {
          "output_type": "execute_result",
          "data": {
            "text/plain": [
              "{'stock_symbol': 'DUK',\n",
              " 'company_profile': {'sector': 'Utilities',\n",
              "  'industry': 'Utilities - Regulated Electric',\n",
              "  'summary': 'Duke Energy Corporation, through its subsidiaries, operates as an energy company in the United States. It operates through two segments: Electric Utilities and Infrastructure (EU&I); and Gas Utilities and Infrastructure (GU&I). The EU&I segment generates, transmits, distributes, and sells electricity to approximately 8.6 million customers in the Southeast and Midwest regions. It generates electricity through coal, hydroelectric, natural gas, oil, renewables, and nuclear fuel. This segment also e'},\n",
              " 'research_plan': ['fetch_financials',\n",
              "  'fetch_sec_filings',\n",
              "  'fetch_market_data',\n",
              "  'fetch_news'],\n",
              " 'evaluation_count': 0}"
            ]
          },
          "metadata": {},
          "execution_count": 23
        }
      ]
    },
    {
      "cell_type": "markdown",
      "source": [
        "### Now, over to other elements\n",
        "\n",
        "This cell defines the `research_router` function, which acts as a conditional edge in the LangGraph. It takes the current state, checks the `research_plan`, and determines the next step based on whether the plan is empty or not. If the plan is empty, it routes to 'generate_report'; otherwise, it routes to the next action in the plan."
      ],
      "metadata": {
        "id": "QdlISERU4Lb-"
      }
    },
    {
      "cell_type": "code",
      "source": [
        "def research_router(state: ResearchState) -> str:\n",
        "    \"\"\"\n",
        "    Reads the research plan and decides the next step.\n",
        "    Returns the name of the next node to execute.\n",
        "    \"\"\"\n",
        "    print(\"---ROUTING---\")\n",
        "    plan = state['research_plan']\n",
        "\n",
        "    if not plan:\n",
        "        # If the plan is empty, we're done with research.\n",
        "        print(\"---RESEARCH COMPLETE, MOVING TO REPORT GENERATION---\")\n",
        "        return \"generate_report\"\n",
        "    else:\n",
        "        # Otherwise, take the next step from the plan.\n",
        "        next_step = plan[0]\n",
        "        print(f\"---NEXT STEP: {next_step}---\")\n",
        "        return next_step  # e.g., returns the string \"fetch_news\""
      ],
      "metadata": {
        "id": "Q291hY0o96MA"
      },
      "execution_count": null,
      "outputs": []
    },
    {
      "cell_type": "markdown",
      "source": [
        "Worker Nodes"
      ],
      "metadata": {
        "id": "zxS0Qc3_0a22"
      }
    },
    {
      "cell_type": "markdown",
      "source": [
        "This cell defines the `fetch_news_node` function, a worker node that calls the `fetch_news` tool. It takes the state, extracts the stock symbol, invokes the `fetch_news` tool, updates the `retrieved_data` in the state with the news, and removes the 'fetch_news' step from the `research_plan`."
      ],
      "metadata": {
        "id": "aTFsReOn4cKe"
      }
    },
    {
      "cell_type": "code",
      "source": [
        "# --- NEWS WORKER NODE ---\n",
        "def fetch_news_node(state: ResearchState):\n",
        "    \"\"\"Worker node that calls the fetch_news_tool.\"\"\"\n",
        "    print(\"---FETCHING NEWS---\")\n",
        "    stock_symbol = state['stock_symbol']\n",
        "    print(f\"News worker: Fetching news for {stock_symbol}\")\n",
        "\n",
        "    # 1. Call the tool\n",
        "    news_data = fetch_news.invoke(stock_symbol)\n",
        "\n",
        "    # 2. Update retrieved_data\n",
        "    current_data = state.get('retrieved_data', {})\n",
        "    current_data['news'] = news_data\n",
        "\n",
        "    # 3. Update the plan by removing the completed step\n",
        "    updated_plan = state['research_plan'][1:] # This pops the first item\n",
        "    print(f\"News worker: Finished fetching news for {stock_symbol}. Updated plan: {updated_plan}\")\n",
        "\n",
        "    return {\"retrieved_data\": current_data, \"research_plan\": updated_plan}"
      ],
      "metadata": {
        "id": "9a6m_dOY0acW"
      },
      "execution_count": null,
      "outputs": []
    },
    {
      "cell_type": "markdown",
      "source": [
        "This cell defines the `fetch_financials_node` function, a worker node that calls the `fetch_financials` tool. It takes the state, extracts the stock symbol, invokes the `fetch_financials` tool, updates the `retrieved_data` in the state with the financials, and removes the 'fetch_financials' step from the `research_plan`."
      ],
      "metadata": {
        "id": "yMqExVhe4koI"
      }
    },
    {
      "cell_type": "code",
      "source": [
        "# --- FINANCIALS WORKER NODE ---\n",
        "def fetch_financials_node(state: ResearchState):\n",
        "    \"\"\"Worker node that calls the fetch_financials_tool.\"\"\"\n",
        "    print(\"---FETCHING FINANCIALS---\")\n",
        "    stock_symbol = state['stock_symbol']\n",
        "    print(f\"Financials worker: Fetching financials for {stock_symbol}\")\n",
        "\n",
        "    # 1. Call the tool\n",
        "    financials_data = fetch_financials.invoke(stock_symbol)\n",
        "\n",
        "    # 2. Update retrieved_data\n",
        "    current_data = state.get('retrieved_data', {})\n",
        "    current_data['financials'] = financials_data\n",
        "\n",
        "    # 3. Update the plan\n",
        "    updated_plan = state['research_plan'][1:]\n",
        "    print(f\"Financials worker: Finished fetching financials for {stock_symbol}. Updated plan: {updated_plan}\")\n",
        "\n",
        "\n",
        "    return {\"retrieved_data\": current_data, \"research_plan\": updated_plan}"
      ],
      "metadata": {
        "id": "rsBbpCkn0y6L"
      },
      "execution_count": null,
      "outputs": []
    },
    {
      "cell_type": "markdown",
      "source": [
        "This cell defines the `fetch_market_node` function, a worker node that calls the `fetch_market_data` tool. It takes the state, extracts the stock symbol, invokes the `fetch_market_data` tool, updates the `retrieved_data` in the state with the market data, and removes the 'fetch_market_data' step from the `research_plan`."
      ],
      "metadata": {
        "id": "fKtv_4EG4w22"
      }
    },
    {
      "cell_type": "code",
      "source": [
        "# --- MARKET DATA WORKER NODE ---\n",
        "def fetch_market_node(state: ResearchState):\n",
        "    \"\"\"Worker node that calls the fetch_market_data.\"\"\"\n",
        "    print(\"---FETCHING MARKET DATA---\")\n",
        "    stock_symbol = state['stock_symbol']\n",
        "    print(f\"Market data worker: Fetching market data for {stock_symbol}\")\n",
        "\n",
        "    # 1. Call the tool\n",
        "    market_data = fetch_market_data.invoke(stock_symbol)\n",
        "\n",
        "    # 2. Update retrieved_data\n",
        "    current_data = state.get('retrieved_data', {})\n",
        "    current_data['market_data'] = market_data\n",
        "\n",
        "    # 3. Update the plan\n",
        "    updated_plan = state['research_plan'][1:]\n",
        "    print(f\"Market data worker: Finished fetching market data for {stock_symbol}. Updated plan: {updated_plan}\")\n",
        "\n",
        "\n",
        "    return {\"retrieved_data\": current_data, \"research_plan\": updated_plan}"
      ],
      "metadata": {
        "id": "07bvP4on03VN"
      },
      "execution_count": null,
      "outputs": []
    },
    {
      "cell_type": "markdown",
      "source": [
        "This cell defines the `fetch_sec_node` function, a worker node that calls the `fetch_sec_filings` tool. It takes the state, extracts the stock symbol, invokes the `fetch_sec_filings` tool, updates the `retrieved_data` in the state with the SEC filings, and removes the 'fetch_sec_filings' step from the `research_plan`."
      ],
      "metadata": {
        "id": "RtMec-ZP4qXf"
      }
    },
    {
      "cell_type": "code",
      "source": [
        "# --- SEC WORKER NODE ---\n",
        "def fetch_sec_node(state: ResearchState):\n",
        "    \"\"\"Worker node that calls the fetch_sec_filings.\"\"\"\n",
        "    print(\"---FETCHING SEC FILINGS---\")\n",
        "    stock_symbol = state['stock_symbol']\n",
        "    print(f\"SEC worker: Fetching SEC filings for {stock_symbol}\")\n",
        "\n",
        "\n",
        "    # 1. Call the tool\n",
        "    sec_data = fetch_sec_filings.invoke(stock_symbol)\n",
        "\n",
        "    # 2. Update retrieved_data\n",
        "    current_data = state.get('retrieved_data', {})\n",
        "    current_data['sec_filings'] = sec_data\n",
        "\n",
        "    # 3. Update the plan\n",
        "    updated_plan = state['research_plan'][1:]\n",
        "    print(f\"SEC worker: Finished fetching SEC filings for {stock_symbol}. Updated plan: {updated_plan}\")\n",
        "\n",
        "\n",
        "    return {\"retrieved_data\": current_data, \"research_plan\": updated_plan}"
      ],
      "metadata": {
        "id": "FDCyzKNr1e62"
      },
      "execution_count": null,
      "outputs": []
    },
    {
      "cell_type": "markdown",
      "source": [
        "This cell defines the `report_generator_agent` function, which is responsible for generating the investment research report. It takes the state, retrieves the collected data (financials, news, SEC filings, market data), and the critique (if any), and uses the `llm` with a prompt to generate a comprehensive report including a SWOT (Strengths, Weaknesses, Opportunities, and Threats) analysis. It updates the state with the `draft_report` and increments the `evaluation_count`."
      ],
      "metadata": {
        "id": "rSc3rqlb42ga"
      }
    },
    {
      "cell_type": "code",
      "source": [
        "# --- GENENERATE REPORT NODE ---\n",
        "def report_generator_agent(state: ResearchState):\n",
        "    \"\"\"Worker node that generates the final report.\"\"\"\n",
        "\n",
        "    stock_symbol = state['stock_symbol']\n",
        "\n",
        "    # Get the current count, default to 0 if it doesn't exist, and add 1\n",
        "    count = state['evaluation_count'] + 1\n",
        "    print(f\"---REPORT GENERATION ATTEMPT: {count}---\")\n",
        "    print(f\"Report generator: Generating report for {stock_symbol}\")\n",
        "\n",
        "\n",
        "    financials = state['retrieved_data'].get('financials', 'N/A')\n",
        "    news = state['retrieved_data'].get('news', 'N/A')\n",
        "    sec_filings = state['retrieved_data'].get('sec_filings', 'N/A')\n",
        "    market_data = state['retrieved_data'].get('market_data', 'N/A')\n",
        "    # In the agent, get the critique (it will be empty on the first run)\n",
        "    critique = state.get('critique', 'N/A')\n",
        "\n",
        "    template = '''Based on the following financial data, news summaries, sec filings, and market context,\n",
        "    write a comprehensive investment research report for {stock_symbol}.\n",
        "    Cover strengths, weaknesses, opportunities, and threats (SWOT Analysis).\n",
        "\n",
        "    ---FINANCIAL DATA---\n",
        "    {financials}\n",
        "\n",
        "    ---NEWS SUMMARIES---\n",
        "    {news}\n",
        "\n",
        "    ---SEC FILINGS---\n",
        "    {sec_filings}\n",
        "\n",
        "    ---MARKET CONTEXT---\n",
        "    {market_data}\n",
        "\n",
        "    ---CRITIQUE AND INSTRUCTIONS FOR REFINEMENT---\n",
        "    {critique}\n",
        "\n",
        "    Based on the critique, please generate a new, improved version of the report.\n",
        "    '''\n",
        "\n",
        "    prompt = ChatPromptTemplate.from_template(template)\n",
        "    chain = prompt | llm | StrOutputParser()\n",
        "\n",
        "    # --- Invoke the chain ---\n",
        "    report = chain.invoke({\n",
        "        \"stock_symbol\": stock_symbol,\n",
        "        \"financials\": financials,\n",
        "        \"news\": news,\n",
        "        \"sec_filings\": sec_filings,\n",
        "        \"market_data\": market_data,\n",
        "        \"critique\": critique\n",
        "    })\n",
        "    print(f\"Report generator: Generated draft report.\")\n",
        "\n",
        "    return {\"draft_report\": report,  \"evaluation_count\": count}"
      ],
      "metadata": {
        "id": "baQBI50w2Ypi"
      },
      "execution_count": null,
      "outputs": []
    },
    {
      "cell_type": "markdown",
      "source": [
        "This cell defines the `evaluator_agent` function, which acts as a quality assurance step. It takes the state, retrieves the `draft_report`, and uses the `llm` with a prompt to evaluate the report based on criteria like balance, risk mention, data support, and conclusion clarity. It returns 'approved' if the report meets the criteria or provides specific feedback (critique) for improvement. It also passes through the `evaluation_count`."
      ],
      "metadata": {
        "id": "NU8eYSV55FTp"
      }
    },
    {
      "cell_type": "code",
      "source": [
        "# --- REPORT EVALUATION NODE ---\n",
        "def evaluator_agent(state: ResearchState):\n",
        "    \"\"\"Worker node that evaluates the report.\"\"\"\n",
        "    print(\"---EVALUATING REPORT---\")\n",
        "    print(f\"Evaluator agent: Evaluating draft report.\")\n",
        "\n",
        "\n",
        "    report = state['draft_report']\n",
        "    # Read the count from the state to pass it through\n",
        "    count = state.get('evaluation_count',0)\n",
        "\n",
        "    template = \"\"\"You are a quality assurance manager. Review the following investment report. Is it balanced?\n",
        "    Does it mention risks? Is it supported by the data provided? Is the conclusion clear?\n",
        "    If it meets all criteria, respond with the single word 'approved'. Otherwise, provide specific, actionable feedback for improvement.\n",
        "\n",
        "    ---INVESTMENT REPORT---\n",
        "    {report}\n",
        "    \"\"\"\n",
        "    prompt = ChatPromptTemplate.from_template(template)\n",
        "    chain = prompt | llm | StrOutputParser()\n",
        "    critique = chain.invoke({\"report\": report})\n",
        "    print(f\"Evaluator agent: Generated critique: {critique}\")\n",
        "\n",
        "\n",
        "    return {\"critique\": critique, \"evaluation_count\": count}"
      ],
      "metadata": {
        "id": "sbw0Mrot5iIK"
      },
      "execution_count": null,
      "outputs": []
    },
    {
      "cell_type": "markdown",
      "source": [
        "This cell defines the `evaluation_router` function, which is a conditional edge based on the evaluation result. It checks the `critique` from the `evaluator_agent` and the `evaluation_count`. If the critique contains 'approved' or the maximum number of refinements (`MAX_REFINEMENTS`) is reached, it routes to the 'end' node; otherwise, it routes back to the 'report_generator' for refinement."
      ],
      "metadata": {
        "id": "IZHmW7vn5LC1"
      }
    },
    {
      "cell_type": "code",
      "source": [
        "# --- EVALUATION ROUTER ---\n",
        "MAX_REFINEMENTS = 5\n",
        "\n",
        "def evaluation_router(state: ResearchState) -> str:\n",
        "    \"\"\"Checks the critique and decides whether to end or refine, with a max attempt limit.\"\"\"\n",
        "    print(\"---CHECKING EVALUATION---\")\n",
        "\n",
        "    critique = state['critique']\n",
        "    count = state.get('evaluation_count',0)\n",
        "    print(f\"Evaluation router: Checking critique (attempt {count}/{MAX_REFINEMENTS})\")\n",
        "\n",
        "\n",
        "    if 'approved' in critique.lower():\n",
        "        print(\"---EVALUATION APPROVED, FINISHING---\")\n",
        "        return \"end\"\n",
        "    elif count >= MAX_REFINEMENTS:\n",
        "        print(f\"---MAXIMUM REFINEMENTS ({MAX_REFINEMENTS}) REACHED, FORCING END---\")\n",
        "        return \"end\"\n",
        "    else:\n",
        "        print(\"---EVALUATION REQUIRES REFINEMENT, RE-GENERATING REPORT---\")\n",
        "        return \"refine\""
      ],
      "metadata": {
        "id": "rdU_PnBm9ong"
      },
      "execution_count": null,
      "outputs": []
    },
    {
      "cell_type": "markdown",
      "source": [
        "This cell defines the `route_research_action` function. This node serves as a \"passthrough\" or junction point in the graph. It doesn't modify the state but is used as a target for edges to allow for conditional routing based on the research plan by the `research_router`."
      ],
      "metadata": {
        "id": "Hb-veIQ85TIU"
      }
    },
    {
      "cell_type": "code",
      "source": [
        "def route_research_action(state: ResearchState) -> dict:\n",
        "    \"\"\"\n",
        "    This is a \"passthrough\" node. It doesn't change the state.\n",
        "    Its only purpose is to exist as a junction point for the graph's edges.\n",
        "    The actual routing logic is in the 'research_router' function, which is\n",
        "    called by the conditional edge mechanism *after* this node runs.\n",
        "    \"\"\"\n",
        "    print(\"--- AT RESEARCH ROUTING JUNCTION ---\")\n",
        "    return {}"
      ],
      "metadata": {
        "id": "-AVywalTKiFg"
      },
      "execution_count": null,
      "outputs": []
    },
    {
      "cell_type": "markdown",
      "source": [
        "This cell defines the `finalize_report_node` function. This is the final node in the successful execution path of the graph. It takes the state, copies the content of the `draft_report` to the `final_report` field, and prints a completion message."
      ],
      "metadata": {
        "id": "Ge7WkpOP5aw1"
      }
    },
    {
      "cell_type": "code",
      "source": [
        "def finalize_report_node(state: ResearchState):\n",
        "    \"\"\"\n",
        "    Copies the final draft_report to the final_report field and prints a completion message.\n",
        "    \"\"\"\n",
        "    print(\"---FINALIZING REPORT---\")\n",
        "    print(\"Finalize report node: Copying draft report to final report.\")\n",
        "\n",
        "\n",
        "    # Get the last draft report\n",
        "    final_version = state['draft_report']\n",
        "\n",
        "    # Copy it to the final_report field\n",
        "    return {\"final_report\": final_version}"
      ],
      "metadata": {
        "id": "S9h9dHaENIp0"
      },
      "execution_count": null,
      "outputs": []
    },
    {
      "cell_type": "markdown",
      "source": [
        "This cell re-initializes the `StateGraph` with the `ResearchState`. This is done to build the complete graph with all the defined nodes and edges."
      ],
      "metadata": {
        "id": "spNmTew35ge9"
      }
    },
    {
      "cell_type": "code",
      "source": [
        "graph=StateGraph(ResearchState)"
      ],
      "metadata": {
        "id": "KR690mzw9yAO"
      },
      "execution_count": null,
      "outputs": []
    },
    {
      "cell_type": "markdown",
      "source": [
        "This cell adds all the defined nodes (`profiler`, `planner`, `research_router`, `fetch_news`, `fetch_financials`, `fetch_market_data`, `fetch_sec_filings`, `report_generator`, `evaluator`, `final_report`) to the graph. It then sets the entry point to `profiler` and defines all the edges, including the conditional edges for `research_router` and `evaluator`, and the edge to the `END` node. Finally, it compiles the complete graph."
      ],
      "metadata": {
        "id": "tY3m0LTR5kYe"
      }
    },
    {
      "cell_type": "code",
      "source": [
        "graph.add_node('profiler', profiler_agent)\n",
        "graph.add_node('planner', planner_agent)\n",
        "graph.add_node('research_router',route_research_action)\n",
        "graph.add_node('fetch_news', fetch_news_node)\n",
        "graph.add_node('fetch_financials', fetch_financials_node)\n",
        "graph.add_node('fetch_market_data', fetch_market_node)\n",
        "graph.add_node('fetch_sec_filings', fetch_sec_node)\n",
        "graph.add_node('report_generator', report_generator_agent)\n",
        "graph.add_node('evaluator', evaluator_agent)\n",
        "graph.add_node('final_report', finalize_report_node)\n",
        "\n",
        "graph.set_entry_point(\"profiler\")\n",
        "\n",
        "graph.add_edge('profiler', 'planner')\n",
        "graph.add_edge('planner', 'research_router')\n",
        "\n",
        "graph.add_conditional_edges(\n",
        "    'research_router',\n",
        "    research_router,\n",
        "    {\n",
        "        'fetch_news': 'fetch_news',\n",
        "        'fetch_financials': 'fetch_financials',\n",
        "        'fetch_market_data': 'fetch_market_data',\n",
        "        'fetch_sec_filings': 'fetch_sec_filings',\n",
        "        'generate_report': 'report_generator'\n",
        "    }\n",
        ")\n",
        "\n",
        "# Connect all worker nodes BACK to the router to continue the loop\n",
        "graph.add_edge('fetch_news', 'research_router')\n",
        "graph.add_edge('fetch_financials', 'research_router')\n",
        "graph.add_edge('fetch_market_data', 'research_router')\n",
        "graph.add_edge('fetch_sec_filings', 'research_router')\n",
        "graph.add_edge('report_generator', 'evaluator')\n",
        "\n",
        "graph.add_conditional_edges(\n",
        "    'evaluator',\n",
        "    evaluation_router,\n",
        "    {\n",
        "        'refine': 'report_generator',\n",
        "        'end': 'final_report'\n",
        "    }\n",
        ")\n",
        "\n",
        "graph.add_edge('final_report', END)\n",
        "app=graph.compile()\n",
        "\n"
      ],
      "metadata": {
        "id": "J_cFFtCq-QDo"
      },
      "execution_count": null,
      "outputs": []
    },
    {
      "cell_type": "markdown",
      "source": [
        "This cell displays the compiled LangGraph application (`app`). This provides a visual representation of the graph's structure."
      ],
      "metadata": {
        "id": "cPaV95Bw5u-5"
      }
    },
    {
      "cell_type": "code",
      "source": [
        "app"
      ],
      "metadata": {
        "colab": {
          "base_uri": "https://localhost:8080/",
          "height": 695
        },
        "id": "K4JBFijnCDqR",
        "outputId": "afd8f7d3-ea27-477a-c96f-874260ce08f4"
      },
      "execution_count": null,
      "outputs": [
        {
          "output_type": "execute_result",
          "data": {
            "text/plain": [
              "<langgraph.graph.state.CompiledStateGraph object at 0x7a14c6c6c680>"
            ],
            "image/png": "[encoded data removed]"
          },
          "metadata": {},
          "execution_count": 36
        }
      ]
    },
    {
      "cell_type": "markdown",
      "source": [
        "This cell defines the `initial_state` dictionary with the stock symbol \"NVDA\" and then invokes the compiled `app` with this initial state. This starts the execution of the LangGraph workflow, running through the different agents and tools to generate a research report for NVIDIA. The final state of the graph execution is stored in the `final_state` variable. The stdout shows the progression through the different nodes in the graph."
      ],
      "metadata": {
        "id": "hNuLA4lb0J_s"
      }
    },
    {
      "cell_type": "code",
      "source": [
        "initial_state = {\n",
        "    \"stock_symbol\": \"NVDA\"\n",
        "}\n",
        "final_state=app.invoke(initial_state)"
      ],
      "metadata": {
        "colab": {
          "base_uri": "https://localhost:8080/"
        },
        "id": "qF_07sNWHIhN",
        "outputId": "afee8b63-d634-47af-92ae-c5db7a40cd61"
      },
      "execution_count": null,
      "outputs": [
        {
          "output_type": "stream",
          "name": "stdout",
          "text": [
            "---PROFILING COMPANY---\n",
            "Profiler agent: Processing symbol NVDA\n",
            "Profiler agent: Fetched profile for NVDA\n",
            "---CREATING DYNAMIC PLAN---\n",
            "Planner agent: Creating plan for NVDA based on profile.\n",
            "Planner agent: Generated plan: ['fetch_news', 'fetch_sec_filings', 'fetch_financials', 'fetch_market_data']\n",
            "--- AT RESEARCH ROUTING JUNCTION ---\n",
            "---ROUTING---\n",
            "---NEXT STEP: fetch_news---\n",
            "---FETCHING NEWS---\n",
            "News worker: Fetching news for NVDA\n",
            "---CHAINING NEWS FOR NVDA (Ingested 5 articles)---\n",
            "--- Preprocessed: Extracted texts from articles ---\n",
            "--- Classified: 5 sentiments (e.g., bearish) ---\n",
            "--- Extracted: Entities from 5 items ---\n",
            "--- Summarized: Generated insights ---\n",
            "News worker: Finished fetching news for NVDA. Updated plan: ['fetch_sec_filings', 'fetch_financials', 'fetch_market_data']\n",
            "--- AT RESEARCH ROUTING JUNCTION ---\n",
            "---ROUTING---\n",
            "---NEXT STEP: fetch_sec_filings---\n",
            "---FETCHING SEC FILINGS---\n",
            "SEC worker: Fetching SEC filings for NVDA\n",
            "SEC worker: Finished fetching SEC filings for NVDA. Updated plan: ['fetch_financials', 'fetch_market_data']\n",
            "--- AT RESEARCH ROUTING JUNCTION ---\n",
            "---ROUTING---\n",
            "---NEXT STEP: fetch_financials---\n",
            "---FETCHING FINANCIALS---\n",
            "Financials worker: Fetching financials for NVDA\n",
            "Financials worker: Finished fetching financials for NVDA. Updated plan: ['fetch_market_data']\n",
            "--- AT RESEARCH ROUTING JUNCTION ---\n",
            "---ROUTING---\n",
            "---NEXT STEP: fetch_market_data---\n",
            "---FETCHING MARKET DATA---\n",
            "Market data worker: Fetching market data for NVDA\n",
            "Market data worker: Finished fetching market data for NVDA. Updated plan: []\n",
            "--- AT RESEARCH ROUTING JUNCTION ---\n",
            "---ROUTING---\n",
            "---RESEARCH COMPLETE, MOVING TO REPORT GENERATION---\n",
            "---REPORT GENERATION ATTEMPT: 1---\n",
            "Report generator: Generating report for NVDA\n",
            "Report generator: Generated draft report.\n",
            "---EVALUATING REPORT---\n",
            "Evaluator agent: Evaluating draft report.\n",
            "Evaluator agent: Generated critique: The report is **not balanced**.\n",
            "\n",
            "Here's the feedback:\n",
            "\n",
            "*   **Balanced:** While the report does mention risks, the overall tone leans heavily towards positive sentiment, and the \"BUY\" recommendation is presented with less emphasis on the potential downsides than the upsides. The \"Key Considerations for Investors\" section attempts to rebalance, but it feels like an addendum rather than an integrated part of the analysis.\n",
            "*   **Mentions Risks:** Yes, risks are mentioned throughout the report, particularly in the SWOT analysis and the dedicated \"Risk Factors Summary.\"\n",
            "*   **Supported by Data:** The financial highlights are provided, and the analysis of these numbers is present. However, the report makes claims about \"unprecedented growth\" and \"phenomenal revenue growth (114% in FY25)\" without explicitly showing the FY25 revenue figures or a comparative year for the 114% growth. The \"Most Recent Year\" financial data is presented, but the revenue growth percentage is not directly derivable from it. The market cap and Beta are provided, which support the discussion on valuation and volatility.\n",
            "*   **Conclusion Clear:** The conclusion (Investment Recommendation) is clear in its \"BUY\" recommendation, but the rationale could be more balanced in its presentation of risks versus rewards.\n",
            "\n",
            "**Specific, Actionable Feedback for Improvement:**\n",
            "\n",
            "1.  **Strengthen the Balance in the Executive Summary and Investment Recommendation:**\n",
            "    *   **Executive Summary:** While it mentions headwinds, it quickly pivots to \"exceptional financial performance\" and \"overwhelming analyst sentiment remains bullish.\" Rephrase to give more equal weight to the risks alongside the opportunities. For example, instead of \"Despite significant geopolitical headwinds... NVIDIA has demonstrated exceptional financial performance,\" consider something like: \"While facing significant geopolitical headwinds and supply chain complexities, NVIDIA has demonstrated exceptional financial performance, though these risks warrant careful consideration.\"\n",
            "    *   **Investment Recommendation:** The rationale heavily emphasizes the positive. Integrate the risks more directly into the rationale for the \"BUY\" recommendation. For instance, instead of saying \"these challenges are being managed effectively, or at least, the growth in other segments is more than compensating,\" provide a more nuanced statement that acknowledges the potential impact of these challenges even with compensating growth. Consider a sentence like: \"While the growth in other segments is robust, the potential impact of geopolitical risks and supply chain disruptions on future revenue streams and profitability should be closely monitored by investors.\"\n",
            "\n",
            "2.  **Provide Supporting Data for Growth Claims:**\n",
            "    *   The report states \"phenomenal revenue growth (114% in FY25)\". To support this, either:\n",
            "        *   Include the FY25 revenue figures alongside the \"Most Recent Year\" figures.\n",
            "        *   Clearly state the \"Most Recent Year\" is FY24 and provide FY25 projected or actual figures if available and relevant to the report's date.\n",
            "        *   If the 114% is a projection, clearly label it as such.\n",
            "    *   The report mentions \"exceptional revenue growth\" without providing a comparative figure from the \"Most Recent Year\" data. While the net income is high relative to revenue, the *growth rate* of revenue is not explicitly shown in the provided financial highlights.\n",
            "\n",
            "3.  **Quantify Risks Where Possible:**\n",
            "    *   The report mentions \"significant geopolitical headwinds, most notably US export controls impacting sales to China.\" While exact figures might be difficult to ascertain, if there are publicly available estimates of the revenue impact from these controls, including them would add more weight to the risk assessment.\n",
            "    *   Similarly, for \"High Valuation and Investor Expectations,\" while the market cap is given, a brief mention of common valuation metrics (e.g., P/E ratio relative to industry peers or historical averages) could further support this point.\n",
            "\n",
            "4.  **Refine the \"Key Considerations for Investors\":**\n",
            "    *   These points are good, but they could be more integrated into the main body of the report. For example, the \"Geopolitical Monitoring\" point could be more prominently featured in the \"Risk Factors Summary\" and the \"Investment Recommendation\" rationale.\n",
            "\n",
            "By addressing these points, the report will present a more comprehensive and balanced view, allowing investors to make more informed decisions.\n",
            "---CHECKING EVALUATION---\n",
            "Evaluation router: Checking critique (attempt 1/5)\n",
            "---EVALUATION REQUIRES REFINEMENT, RE-GENERATING REPORT---\n",
            "---REPORT GENERATION ATTEMPT: 2---\n",
            "Report generator: Generating report for NVDA\n",
            "Report generator: Generated draft report.\n",
            "---EVALUATING REPORT---\n",
            "Evaluator agent: Evaluating draft report.\n",
            "Evaluator agent: Generated critique: The report is **not balanced**.\n",
            "\n",
            "Here's the specific, actionable feedback for improvement:\n",
            "\n",
            "1.  **Data Support for Financial Highlights:** The report presents impressive financial figures (Total Revenue, Net Income, Total Assets, Total Liabilities) but does not provide context or comparative data.\n",
            "    *   **Actionable Feedback:** Include year-over-year (YoY) growth percentages for revenue and net income. For example, \"Total Revenue: $130,497,000,000 (XX% YoY growth).\" This would allow readers to understand if the \"exceptional financial performance\" is a trend or a one-off. Similarly, providing a debt-to-equity ratio or current ratio would offer better insight into the \"solid financial foundation.\"\n",
            "\n",
            "2.  **Quantification of Risks:** While risks are mentioned, they are largely qualitative. The report states \"significant geopolitical headwinds\" and \"inherent supply chain complexities\" but doesn't quantify their impact or potential magnitude.\n",
            "    *   **Actionable Feedback:** Where possible, quantify the impact of identified risks. For example, the report mentions \"US export controls impacting sales to China.\" If available, provide an estimated percentage of revenue lost or projected to be lost due to these controls. For competition, instead of just stating \"intense competition,\" mention specific competitors and their market share gains or investment levels in relevant segments if data is available.\n",
            "\n",
            "3.  **Clarity on \"Most Recent Year\" Data:** The \"Financial Highlights\" section states \"Most Recent Year\" but then the \"Management's Discussion and Analysis (MD&A)\" mentions \"114% in FY25, though specific FY25 figures are not provided in the 'Most Recent Year' data.\" This creates confusion.\n",
            "    *   **Actionable Feedback:** Clearly define the period for the \"Financial Highlights.\" If the \"Most Recent Year\" data is for FY24, explicitly state that. Then, when discussing FY25 projections or impacts, ensure it's clearly delineated as forward-looking or based on different data sources.\n",
            "\n",
            "4.  **Balancing the \"BUY\" Recommendation with Risks:** While the report acknowledges risks, the \"BUY\" recommendation and the conclusion lean heavily on the positive aspects. The \"Key Considerations for Investors\" section does a better job of balancing, but the overall recommendation could be more nuanced.\n",
            "    *   **Actionable Feedback:** In the \"Investment Recommendation\" and \"Conclusion,\" explicitly state the trade-off between the high growth potential and the identified risks. For example, instead of just saying \"the 'BUY' recommendation is warranted,\" consider phrasing like: \"The 'BUY' recommendation is warranted for investors with a high-risk tolerance and a long-term perspective, who believe NVIDIA's market leadership and innovation can overcome significant geopolitical and competitive headwinds.\" This directly links the recommendation to the risk profile.\n",
            "\n",
            "5.  **Support for Analyst Sentiment:** The report states \"overwhelming analyst sentiment\" and provides a statistic (58 out of 63).\n",
            "    *   **Actionable Feedback:** While the statistic is good, it would be stronger if it also mentioned the *average price target* or the *range of price targets* from these analysts. This would provide more concrete data to support the \"overwhelmingly positive\" sentiment.\n",
            "\n",
            "By addressing these points, the report would become more balanced, data-supported, and provide clearer actionable insights for investors.\n",
            "---CHECKING EVALUATION---\n",
            "Evaluation router: Checking critique (attempt 2/5)\n",
            "---EVALUATION REQUIRES REFINEMENT, RE-GENERATING REPORT---\n",
            "---REPORT GENERATION ATTEMPT: 3---\n",
            "Report generator: Generating report for NVDA\n",
            "Report generator: Generated draft report.\n",
            "---EVALUATING REPORT---\n",
            "Evaluator agent: Evaluating draft report.\n",
            "Evaluator agent: Generated critique: The report is **not balanced**.\n",
            "\n",
            "Here's the specific, actionable feedback for improvement:\n",
            "\n",
            "*   **Balance:** While the report mentions risks, the \"Opportunities\" and \"Strengths\" sections are significantly more detailed and positively framed than the \"Weaknesses\" and \"Threats\" sections. The overall tone leans heavily towards optimism, potentially downplaying the severity of the identified risks. To improve balance, consider:\n",
            "    *   **Quantifying Risks:** Where possible, try to provide some indication of the potential impact of identified risks. For example, instead of just stating \"Geopolitical Risks and Export Controls,\" if there's publicly available information on the percentage of revenue lost or projected to be lost due to these controls, include it.\n",
            "    *   **Equal Weighting in SWOT:** Ensure that the \"Weaknesses\" and \"Threats\" sections are given comparable depth and detail to \"Strengths\" and \"Opportunities.\"\n",
            "    *   **Nuance in Executive Summary and Conclusion:** While the executive summary and conclusion acknowledge risks, they could be more explicit about the *magnitude* of these risks in relation to the opportunities.\n",
            "\n",
            "*   **Mention Risks:** Yes, risks are mentioned.\n",
            "\n",
            "*   **Supported by Data:** The report attempts to support its claims with data, but there are areas for improvement:\n",
            "    *   **Missing Data Points:** The report explicitly states \"[**Insert Average Price Target Here if available, otherwise state 'not provided'**]\" and \"[**Insert Price Target Range Here if available, otherwise state 'not provided'**]\". This is a critical omission for an investment report. The data for FY24 revenue growth is also noted as not provided, with a reliance on FY25 projections.\n",
            "    *   **Inconsistent Data Presentation:** The financial highlights are presented with large, rounded numbers. While this is common, for a detailed investment report, providing more precise figures or specific year-over-year growth percentages (even if estimated from context) would be beneficial. For example, the note about FY25 growth is good, but the lack of FY24 growth percentage is a gap.\n",
            "    *   **\"MD&A mentions 114% growth in FY25\"**: This is a forward-looking statement and should be clearly identified as such. While useful, it's not historical data supporting current performance.\n",
            "\n",
            "*   **Conclusion Clear:** The conclusion is clear in its recommendation and acknowledges both the strengths and weaknesses. However, its clarity could be enhanced by more directly linking the conclusion back to the *balance* of risks and rewards discussed throughout the report.\n",
            "\n",
            "**Overall Recommendation:** The report needs more robust data and a more balanced presentation of risks and opportunities to be considered fully approved.\n",
            "---CHECKING EVALUATION---\n",
            "Evaluation router: Checking critique (attempt 3/5)\n",
            "---EVALUATION APPROVED, FINISHING---\n",
            "---FINALIZING REPORT---\n",
            "Finalize report node: Copying draft report to final report.\n"
          ]
        }
      ]
    },
    {
      "cell_type": "markdown",
      "metadata": {
        "id": "b5a4902b"
      },
      "source": [
        "This cell displays the `final_state` dictionary after the LangGraph execution for \"NVDA\" is complete. This dictionary contains the final state of the research process, including the company profile, the retrieved data from the tools, the final generated report (in `draft_report` and `final_report`), and the evaluation details."
      ]
    },
    {
      "cell_type": "code",
      "source": [
        "final_state"
      ],
      "metadata": {
        "colab": {
          "base_uri": "https://localhost:8080/"
        },
        "id": "gtkv-aG4HNC4",
        "outputId": "456cee5d-5441-4890-d8f0-f9e5487fc1da"
      },
      "execution_count": null,
      "outputs": [
        {
          "output_type": "execute_result",
          "data": {
            "text/plain": [
              "{'stock_symbol': 'NVDA',\n",
              " 'company_profile': {'sector': 'Technology',\n",
              "  'industry': 'Semiconductors',\n",
              "  'summary': 'NVIDIA Corporation, a computing infrastructure company, provides graphics and compute and networking solutions in the United States, Singapore, Taiwan, China, Hong Kong, and internationally. The Compute & Networking segment includes its Data Centre accelerated computing platforms and artificial intelligence solutions and software; networking; automotive platforms and autonomous and electric vehicle solutions; Jetson for robotics and other embedded platforms; and DGX Cloud computing services. The'},\n",
              " 'research_plan': [],\n",
              " 'retrieved_data': {'news': '--- Chained News Analysis for NVDA ---\\n\\n        **Sentiments (per article):**\\n        [\\n  {\\n    \"title\": \"China\\'s Nvidia ban marks \\'experimental phase\\' of trade talks\",\\n    \"sentiment\": \"bearish\"\\n  },\\n  {\\n    \"title\": \"How to trade the AI boom beyond chips\",\\n    \"sentiment\": \"neutral\"\\n  },\\n  {\\n    \"title\": \"Intel \\'needs\\' Apple to invest like Nvidia & US government did\",\\n    \"sentiment\": \"neutral\"\\n  },\\n  {\\n    \"title\": \"Watch for this signal in Nvidia stock to capitalize on spring-loaded gains ahead\",\\n    \"sentiment\": \"bullish\"\\n  },\\n  {\\n    \"title\": \"Buy 5 Big Data Behemoths to Benefit From Enormous Market Opportunity\",\\n    \"sentiment\": \"bullish\"\\n  }\\n]\\n\\n        **Extracted Entities:**\\n        [\\n  {\\n    \"title\": \"China\\'s Nvidia ban marks \\'experimental phase\\' of trade talks\",\\n    \"entities\": [\\n      \"China ban\",\\n      \"Nvidia chips\"\\n    ]\\n  },\\n  {\\n    \"title\": \"How to trade the AI boom beyond chips\",\\n    \"entities\": [\\n      \"AI boom\",\\n      \"chip companies\",\\n      \"large language models\"\\n    ]\\n  },\\n  {\\n    \"title\": \"Intel \\'needs\\' Apple to invest like Nvidia & US government did\",\\n    \"entities\": [\\n      \"Apple investment\",\\n      \"Nvidia investment\",\\n      \"US government investment\"\\n    ]\\n  },\\n  {\\n    \"title\": \"Watch for this signal in Nvidia stock to capitalize on spring-loaded gains ahead\",\\n    \"entities\": [\\n      \"Nvidia stock\",\\n      \"spring-loaded gains\"\\n    ]\\n  },\\n  {\\n    \"title\": \"Buy 5 Big Data Behemoths to Benefit From Enormous Market Opportunity\",\\n    \"entities\": [\\n      \"Big Data\",\\n      \"AI demand\",\\n      \"analytics demand\"\\n    ]\\n  }\\n]\\n\\n        **Summary Insights:**\\n        Here are the top insights for NVDA from the provided sentiments and entities:\\n\\n*   **Geopolitical Risk from China Ban:** A significant bearish sentiment highlights the negative impact of China\\'s ban on Nvidia chips, framing it as an \"experimental phase\" in trade talks. This indicates a potential ongoing risk to Nvidia\\'s sales and market access in a crucial region.\\n\\n*   **AI Boom as a Major Opportunity:** Multiple bullish sentiments and entities point to the \"AI boom\" and \"enormous market opportunity\" driven by \"AI demand\" and \"Big Data.\" Nvidia is positioned as a key player in this trend, with mentions of \"spring-loaded gains ahead\" for its stock, suggesting strong growth potential.\\n\\n*   **Competition and Investment Landscape:** While Nvidia is seen as a leader, there\\'s a neutral sentiment acknowledging the competitive landscape. Intel\\'s need for investment comparable to Nvidia and the US government\\'s support suggests that significant capital is flowing into the AI chip sector, and Nvidia\\'s success is partly attributed to strategic investments.\\n\\n*   **Diversification Beyond Chips:** A neutral sentiment suggests exploring opportunities \"beyond chips\" within the AI boom. While Nvidia is primarily known for its chips, this insight implies that the broader AI ecosystem presents opportunities that might extend beyond its core business, though it doesn\\'t directly impact Nvidia\\'s current operations.\\n\\n        **Raw Preprocessed Texts (for reference):**\\n        Title: China\\'s Nvidia ban marks \\'experimental phase\\' of trade talks\\nContent: China has reportedly banned Chinese firms from buying Nvidia (NVDA) chips, according to reporting from the Financial Times. Rhodium Group director Reva...\\n\\n---\\n\\nTitle: How to trade the AI boom beyond chips\\nContent: When people talk about artificial intelligence stocks, they usually think of chip companies like Nvidia (NVDA) or companies working on large language models,...\\n\\n---\\n\\nTitle: Intel \\'needs\\' Apple to invest like...',\n",
              "  'sec_filings': 'The \\'Risk Factors\\' summary is: Here are the key takeaways from the provided text in 5 bullet points:\\n\\n*   **Industry and Market Dynamics:** The company faces risks from failing to adapt to evolving industry needs and intense competition, which can impact market share and financial results.\\n*   **Supply Chain and Manufacturing Vulnerabilities:** Long manufacturing lead times, uncertain component availability, reliance on third-party suppliers, and potential product defects pose significant risks to production, quality, and delivery schedules.\\n*   **Global Operations and Security Threats:** International business exposes the company to economic and political instability, while product, system security, and data breaches, including cyber-attacks, can disrupt operations and damage reputation.\\n*   **Regulatory and Legal Landscape:** The company is subject to complex and changing laws, regulations, and political actions globally, including export controls, data privacy laws, and scrutiny over AI and sustainability practices, which can lead to increased costs and liabilities.\\n*   **Financial and Operational Volatility:** Fluctuations in operating results, dependence on a limited number of key partners and customers, challenges in integrating acquisitions, and the inability to attract/retain key employees can negatively impact financial performance and stock price. and \\n\\n\\n        \"Management\\'s Discussion and Analysis\" summary is: Here are the key takeaways from the provided text in 5 bullet points:\\n\\n*   **Exceptional Revenue Growth Driven by Data Center and AI:** NVIDIA experienced a significant 114% revenue increase in fiscal year 2025, primarily fueled by the booming demand for its accelerated computing and AI solutions in the Data Center segment, with the Hopper architecture being a key driver.\\n*   **Complex Supply Chain and Product Transition Challenges:** The company faces ongoing challenges in managing its complex global supply chain and navigating frequent product transitions, which can lead to inventory volatility, increased costs, and potential revenue fluctuations.\\n*   **Significant Impact of US Export Controls:** US government export controls, particularly those affecting sales to China and certain other regions, have a material impact on NVIDIA\\'s business, limiting sales of high-performance products and requiring the development of alternative solutions.\\n*   **Strong Financial Performance and Liquidity:** NVIDIA demonstrated robust financial performance with substantial increases in gross profit, operating income, and net income. The company maintains strong liquidity with significant cash, cash equivalents, and marketable securities.\\n*   **Increased Investment in R&D and Shareholder Returns:** Operating expenses, particularly in research and development, have increased significantly to support new product introductions. NVIDIA also continues to return substantial capital to shareholders through share repurchases and dividends.',\n",
              "  'financials': '--- Key Financials for NVDA (Most Recent Year) ---\\n        \\n        **Income Statement:**\\n        - Total Revenue: $130,497,000,000\\n        - Net Income: $72,880,000,000\\n        \\n        **Balance Sheet:**\\n        - Total Assets: $111,601,000,000\\n        - Total Liabilities: $32,274,000,000',\n",
              "  'market_data': \"--- Market Data Snapshot for NVDA ---\\n        \\n**Performance & Valuation:**\\n- Market Cap: $4.57 T\\n- 52-Week Range: $86.62 - $191.05\\n- Beta (Volatility vs. Market): 2.123\\n\\n**Analyst Sentiment:**\\n- Consensus: 58 of the 63 most recent analyst ratings are 'Buy' or 'Strong Buy'.\"},\n",
              " 'draft_report': '## NVIDIA (NVDA) Investment Research Report\\n\\n**Date:** October 26, 2023\\n\\n**Prepared For:** Investment Committee\\n\\n**Prepared By:** [Your Name/Firm Name]\\n\\n---\\n\\n### Executive Summary\\n\\nNVIDIA Corporation (NVDA) stands at the forefront of the artificial intelligence (AI) revolution, a dominant force in the design and manufacturing of Graphics Processing Units (GPUs) that are critical for AI training and inference, as well as high-performance computing. The company has demonstrated exceptional financial performance, driven by unprecedented demand in its Data Center segment. However, significant geopolitical risks, intense competition, and supply chain complexities present considerable challenges. Despite these headwinds, the overwhelming analyst sentiment and the company\\'s strategic positioning in a rapidly expanding market suggest continued growth potential for investors with a high-risk tolerance and a long-term perspective.\\n\\n---\\n\\n### Company Overview\\n\\nNVIDIA Corporation designs and manufactures graphics processing units (GPUs) for the gaming and professional markets. Its GPUs are also used in personal computers, workstations, and supercomputers for a wide range of applications, including artificial intelligence, deep learning, scientific simulations, and autonomous vehicles. The company operates through two main segments: GPU and Compute & Networking.\\n\\n---\\n\\n### Financial Highlights (Most Recent Year - FY24)\\n\\n*   **Total Revenue:** $130,497,000,000\\n    *   *Note: This represents a significant increase from the previous fiscal year, driven primarily by the Data Center segment. Specific YoY growth percentage for FY24 is not provided in the source data, but MD&A mentions 114% growth in FY25, indicating a strong upward trend.*\\n*   **Net Income:** $72,880,000,000\\n    *   *Note: This reflects substantial profitability, underscoring the company\\'s pricing power and operational efficiency in its core markets.*\\n*   **Total Assets:** $111,601,000,000\\n*   **Total Liabilities:** $32,274,000,000\\n    *   *Note: The company maintains a strong balance sheet with significantly more assets than liabilities, indicating a solid financial foundation. A debt-to-equity ratio can be calculated as approximately 0.42, which is healthy.*\\n\\n---\\n\\n### Market Context & Analyst Sentiment\\n\\n*   **Market Capitalization:** $4.57 Trillion\\n*   **52-Week Range:** $86.62 - $191.05\\n*   **Beta (Volatility vs. Market):** 2.123 (Indicates higher volatility than the broader market)\\n*   **Analyst Sentiment:** Overwhelmingly positive, with **58 out of 63** recent analyst ratings being \\'Buy\\' or \\'Strong Buy\\'. The average price target from these analysts is [**Insert Average Price Target Here if available, otherwise state \\'not provided\\'**], with a range of [**Insert Price Target Range Here if available, otherwise state \\'not provided\\'**]. This strong consensus highlights the market\\'s confidence in NVIDIA\\'s future prospects.\\n\\n---\\n\\n### SWOT Analysis\\n\\n**Strengths:**\\n\\n*   **Dominant Market Position in AI & High-Performance Computing:** NVIDIA\\'s GPUs are the de facto standard for AI training and inference, giving it a significant competitive advantage. The company\\'s CUDA software ecosystem further entrenches its position.\\n*   **Exceptional Revenue and Profitability Growth:** The company is experiencing unprecedented demand, leading to substantial revenue and net income growth, as evidenced by the financial data. The MD&A highlights a 114% revenue increase in FY25, driven by accelerated computing and AI solutions.\\n*   **Strong Balance Sheet and Liquidity:** With significantly more assets than liabilities and substantial cash reserves, NVIDIA possesses a robust financial foundation to weather economic downturns and invest in future growth.\\n*   **Innovation and R&D Investment:** The company consistently invests heavily in research and development, enabling it to stay ahead of technological curves and introduce new, high-performance architectures like Hopper.\\n*   **Strategic Partnerships and Ecosystem:** NVIDIA has cultivated strong relationships with cloud providers, AI developers, and other key players in the tech ecosystem, creating a sticky environment for its products.\\n\\n**Weaknesses:**\\n\\n*   **High Dependence on a Few Key Customers and Partners:** While not explicitly quantified, the SEC filings mention dependence on a limited number of key partners and customers, which could pose a risk if these relationships deteriorate.\\n*   **Complex and Volatile Supply Chain:** Long manufacturing lead times, reliance on third-party suppliers, and potential product defects create inherent vulnerabilities in its supply chain, impacting production and delivery schedules.\\n*   **Product Transition Challenges:** Frequent product transitions, while necessary for innovation, can lead to inventory volatility and increased costs.\\n*   **High Valuation and Investor Expectations:** The company\\'s significant market capitalization and strong analyst sentiment imply very high investor expectations, making it susceptible to sharp corrections if growth falters.\\n\\n**Opportunities:**\\n\\n*   **Continued AI and Big Data Expansion:** The \"AI boom\" and \"enormous market opportunity\" driven by \"AI demand\" and \"Big Data\" analytics are expected to continue growing exponentially, providing a vast addressable market for NVIDIA\\'s products.\\n*   **Expansion into New Verticals:** Beyond traditional data centers, NVIDIA\\'s technology is finding applications in autonomous vehicles, robotics, healthcare, and the metaverse, opening up new revenue streams.\\n*   **Geopolitical Tailwinds (Domestic Production):** While China bans are a threat, they could also incentivize governments and companies in other regions to invest more in domestic chip production and partnerships, potentially benefiting NVIDIA in the long run through diversified customer bases.\\n*   **Software and Services Growth:** NVIDIA\\'s expanding software and services offerings, built around its hardware, present an opportunity for recurring revenue and deeper customer engagement.\\n\\n**Threats:**\\n\\n*   **Geopolitical Risks and Export Controls:** The \"China ban\" on Nvidia chips represents a significant geopolitical headwind, impacting sales and market access in a crucial region. US export controls, in general, have a material impact on the company\\'s business.\\n*   **Intense Competition:** While NVIDIA is a leader, the semiconductor industry is highly competitive. Competitors like Intel and AMD are investing heavily to capture market share in AI and high-performance computing.\\n*   **Technological Disruption:** The rapid pace of technological advancement means that a breakthrough by a competitor or a fundamental shift in AI architecture could challenge NVIDIA\\'s dominance.\\n*   **Regulatory Scrutiny:** As a dominant player in a critical technology sector, NVIDIA faces increasing scrutiny over AI practices, data privacy, and sustainability, which could lead to increased costs and liabilities.\\n*   **Economic Downturns:** A significant global economic slowdown could reduce demand for high-end computing and AI solutions, impacting NVIDIA\\'s revenue.\\n\\n---\\n\\n### Key Considerations for Investors\\n\\n*   **Geopolitical Exposure:** The impact of US-China trade relations and export controls on NVIDIA\\'s sales to China is a significant risk that investors must monitor closely. The \"experimental phase\" of these trade talks suggests ongoing uncertainty.\\n*   **Sustaining Growth:** While current growth is exceptional, investors need to assess NVIDIA\\'s ability to sustain this momentum in the face of increasing competition and potential market saturation in certain areas.\\n*   **Valuation:** NVIDIA is trading at a premium valuation, reflecting its market leadership and growth prospects. This high valuation implies that any misstep or slowdown in growth could lead to a significant stock price correction.\\n*   **Supply Chain Resilience:** The company\\'s ability to manage its complex supply chain and mitigate disruptions will be crucial for meeting demand and maintaining its market position.\\n*   **Innovation Pipeline:** Continued investment in R&D and the successful introduction of next-generation products are essential for NVIDIA to maintain its technological edge.\\n\\n---\\n\\n### Investment Recommendation\\n\\n**BUY**\\n\\nThe \\'BUY\\' recommendation is warranted for investors with a **high-risk tolerance and a long-term perspective**, who believe NVIDIA\\'s market leadership, innovation, and dominant position in the rapidly expanding AI market can overcome significant geopolitical and competitive headwinds.\\n\\nThe company\\'s financial performance is exceptional, driven by secular tailwinds in AI and data center demand. The overwhelming analyst sentiment, coupled with NVIDIA\\'s strong technological moat and ecosystem, suggests continued upside potential. However, investors must be prepared for the inherent volatility associated with a high-growth technology company operating in a complex global environment. The significant market cap and high expectations mean that any negative news or a slowdown in growth could lead to substantial price fluctuations.\\n\\n---\\n\\n### Conclusion\\n\\nNVIDIA is a transformative company at the epicenter of the AI revolution. Its technological prowess, market dominance, and robust financial performance are undeniable strengths. The company is exceptionally well-positioned to capitalize on the ongoing AI boom, with significant opportunities for expansion into new markets and applications. However, the geopolitical landscape, particularly concerning China, presents a material threat that cannot be ignored. Intense competition and supply chain complexities add further layers of risk.\\n\\nFor investors willing to accept a higher level of risk in pursuit of substantial long-term growth, NVIDIA remains a compelling investment. Its ability to innovate and adapt will be key to navigating the challenges ahead and solidifying its position as a leader in the future of computing.\\n\\n---\\n\\n**Disclaimer:** This report is for informational purposes only and does not constitute investment advice. Investors should conduct their own due diligence and consult with a qualified financial advisor before making any investment decisions.',\n",
              " 'critique': 'The report is **not balanced**.\\n\\nHere\\'s the specific, actionable feedback for improvement:\\n\\n*   **Balance:** While the report mentions risks, the \"Opportunities\" and \"Strengths\" sections are significantly more detailed and positively framed than the \"Weaknesses\" and \"Threats\" sections. The overall tone leans heavily towards optimism, potentially downplaying the severity of the identified risks. To improve balance, consider:\\n    *   **Quantifying Risks:** Where possible, try to provide some indication of the potential impact of identified risks. For example, instead of just stating \"Geopolitical Risks and Export Controls,\" if there\\'s publicly available information on the percentage of revenue lost or projected to be lost due to these controls, include it.\\n    *   **Equal Weighting in SWOT:** Ensure that the \"Weaknesses\" and \"Threats\" sections are given comparable depth and detail to \"Strengths\" and \"Opportunities.\"\\n    *   **Nuance in Executive Summary and Conclusion:** While the executive summary and conclusion acknowledge risks, they could be more explicit about the *magnitude* of these risks in relation to the opportunities.\\n\\n*   **Mention Risks:** Yes, risks are mentioned.\\n\\n*   **Supported by Data:** The report attempts to support its claims with data, but there are areas for improvement:\\n    *   **Missing Data Points:** The report explicitly states \"[**Insert Average Price Target Here if available, otherwise state \\'not provided\\'**]\" and \"[**Insert Price Target Range Here if available, otherwise state \\'not provided\\'**]\". This is a critical omission for an investment report. The data for FY24 revenue growth is also noted as not provided, with a reliance on FY25 projections.\\n    *   **Inconsistent Data Presentation:** The financial highlights are presented with large, rounded numbers. While this is common, for a detailed investment report, providing more precise figures or specific year-over-year growth percentages (even if estimated from context) would be beneficial. For example, the note about FY25 growth is good, but the lack of FY24 growth percentage is a gap.\\n    *   **\"MD&A mentions 114% growth in FY25\"**: This is a forward-looking statement and should be clearly identified as such. While useful, it\\'s not historical data supporting current performance.\\n\\n*   **Conclusion Clear:** The conclusion is clear in its recommendation and acknowledges both the strengths and weaknesses. However, its clarity could be enhanced by more directly linking the conclusion back to the *balance* of risks and rewards discussed throughout the report.\\n\\n**Overall Recommendation:** The report needs more robust data and a more balanced presentation of risks and opportunities to be considered fully approved.',\n",
              " 'final_report': '## NVIDIA (NVDA) Investment Research Report\\n\\n**Date:** October 26, 2023\\n\\n**Prepared For:** Investment Committee\\n\\n**Prepared By:** [Your Name/Firm Name]\\n\\n---\\n\\n### Executive Summary\\n\\nNVIDIA Corporation (NVDA) stands at the forefront of the artificial intelligence (AI) revolution, a dominant force in the design and manufacturing of Graphics Processing Units (GPUs) that are critical for AI training and inference, as well as high-performance computing. The company has demonstrated exceptional financial performance, driven by unprecedented demand in its Data Center segment. However, significant geopolitical risks, intense competition, and supply chain complexities present considerable challenges. Despite these headwinds, the overwhelming analyst sentiment and the company\\'s strategic positioning in a rapidly expanding market suggest continued growth potential for investors with a high-risk tolerance and a long-term perspective.\\n\\n---\\n\\n### Company Overview\\n\\nNVIDIA Corporation designs and manufactures graphics processing units (GPUs) for the gaming and professional markets. Its GPUs are also used in personal computers, workstations, and supercomputers for a wide range of applications, including artificial intelligence, deep learning, scientific simulations, and autonomous vehicles. The company operates through two main segments: GPU and Compute & Networking.\\n\\n---\\n\\n### Financial Highlights (Most Recent Year - FY24)\\n\\n*   **Total Revenue:** $130,497,000,000\\n    *   *Note: This represents a significant increase from the previous fiscal year, driven primarily by the Data Center segment. Specific YoY growth percentage for FY24 is not provided in the source data, but MD&A mentions 114% growth in FY25, indicating a strong upward trend.*\\n*   **Net Income:** $72,880,000,000\\n    *   *Note: This reflects substantial profitability, underscoring the company\\'s pricing power and operational efficiency in its core markets.*\\n*   **Total Assets:** $111,601,000,000\\n*   **Total Liabilities:** $32,274,000,000\\n    *   *Note: The company maintains a strong balance sheet with significantly more assets than liabilities, indicating a solid financial foundation. A debt-to-equity ratio can be calculated as approximately 0.42, which is healthy.*\\n\\n---\\n\\n### Market Context & Analyst Sentiment\\n\\n*   **Market Capitalization:** $4.57 Trillion\\n*   **52-Week Range:** $86.62 - $191.05\\n*   **Beta (Volatility vs. Market):** 2.123 (Indicates higher volatility than the broader market)\\n*   **Analyst Sentiment:** Overwhelmingly positive, with **58 out of 63** recent analyst ratings being \\'Buy\\' or \\'Strong Buy\\'. The average price target from these analysts is [**Insert Average Price Target Here if available, otherwise state \\'not provided\\'**], with a range of [**Insert Price Target Range Here if available, otherwise state \\'not provided\\'**]. This strong consensus highlights the market\\'s confidence in NVIDIA\\'s future prospects.\\n\\n---\\n\\n### SWOT Analysis\\n\\n**Strengths:**\\n\\n*   **Dominant Market Position in AI & High-Performance Computing:** NVIDIA\\'s GPUs are the de facto standard for AI training and inference, giving it a significant competitive advantage. The company\\'s CUDA software ecosystem further entrenches its position.\\n*   **Exceptional Revenue and Profitability Growth:** The company is experiencing unprecedented demand, leading to substantial revenue and net income growth, as evidenced by the financial data. The MD&A highlights a 114% revenue increase in FY25, driven by accelerated computing and AI solutions.\\n*   **Strong Balance Sheet and Liquidity:** With significantly more assets than liabilities and substantial cash reserves, NVIDIA possesses a robust financial foundation to weather economic downturns and invest in future growth.\\n*   **Innovation and R&D Investment:** The company consistently invests heavily in research and development, enabling it to stay ahead of technological curves and introduce new, high-performance architectures like Hopper.\\n*   **Strategic Partnerships and Ecosystem:** NVIDIA has cultivated strong relationships with cloud providers, AI developers, and other key players in the tech ecosystem, creating a sticky environment for its products.\\n\\n**Weaknesses:**\\n\\n*   **High Dependence on a Few Key Customers and Partners:** While not explicitly quantified, the SEC filings mention dependence on a limited number of key partners and customers, which could pose a risk if these relationships deteriorate.\\n*   **Complex and Volatile Supply Chain:** Long manufacturing lead times, reliance on third-party suppliers, and potential product defects create inherent vulnerabilities in its supply chain, impacting production and delivery schedules.\\n*   **Product Transition Challenges:** Frequent product transitions, while necessary for innovation, can lead to inventory volatility and increased costs.\\n*   **High Valuation and Investor Expectations:** The company\\'s significant market capitalization and strong analyst sentiment imply very high investor expectations, making it susceptible to sharp corrections if growth falters.\\n\\n**Opportunities:**\\n\\n*   **Continued AI and Big Data Expansion:** The \"AI boom\" and \"enormous market opportunity\" driven by \"AI demand\" and \"Big Data\" analytics are expected to continue growing exponentially, providing a vast addressable market for NVIDIA\\'s products.\\n*   **Expansion into New Verticals:** Beyond traditional data centers, NVIDIA\\'s technology is finding applications in autonomous vehicles, robotics, healthcare, and the metaverse, opening up new revenue streams.\\n*   **Geopolitical Tailwinds (Domestic Production):** While China bans are a threat, they could also incentivize governments and companies in other regions to invest more in domestic chip production and partnerships, potentially benefiting NVIDIA in the long run through diversified customer bases.\\n*   **Software and Services Growth:** NVIDIA\\'s expanding software and services offerings, built around its hardware, present an opportunity for recurring revenue and deeper customer engagement.\\n\\n**Threats:**\\n\\n*   **Geopolitical Risks and Export Controls:** The \"China ban\" on Nvidia chips represents a significant geopolitical headwind, impacting sales and market access in a crucial region. US export controls, in general, have a material impact on the company\\'s business.\\n*   **Intense Competition:** While NVIDIA is a leader, the semiconductor industry is highly competitive. Competitors like Intel and AMD are investing heavily to capture market share in AI and high-performance computing.\\n*   **Technological Disruption:** The rapid pace of technological advancement means that a breakthrough by a competitor or a fundamental shift in AI architecture could challenge NVIDIA\\'s dominance.\\n*   **Regulatory Scrutiny:** As a dominant player in a critical technology sector, NVIDIA faces increasing scrutiny over AI practices, data privacy, and sustainability, which could lead to increased costs and liabilities.\\n*   **Economic Downturns:** A significant global economic slowdown could reduce demand for high-end computing and AI solutions, impacting NVIDIA\\'s revenue.\\n\\n---\\n\\n### Key Considerations for Investors\\n\\n*   **Geopolitical Exposure:** The impact of US-China trade relations and export controls on NVIDIA\\'s sales to China is a significant risk that investors must monitor closely. The \"experimental phase\" of these trade talks suggests ongoing uncertainty.\\n*   **Sustaining Growth:** While current growth is exceptional, investors need to assess NVIDIA\\'s ability to sustain this momentum in the face of increasing competition and potential market saturation in certain areas.\\n*   **Valuation:** NVIDIA is trading at a premium valuation, reflecting its market leadership and growth prospects. This high valuation implies that any misstep or slowdown in growth could lead to a significant stock price correction.\\n*   **Supply Chain Resilience:** The company\\'s ability to manage its complex supply chain and mitigate disruptions will be crucial for meeting demand and maintaining its market position.\\n*   **Innovation Pipeline:** Continued investment in R&D and the successful introduction of next-generation products are essential for NVIDIA to maintain its technological edge.\\n\\n---\\n\\n### Investment Recommendation\\n\\n**BUY**\\n\\nThe \\'BUY\\' recommendation is warranted for investors with a **high-risk tolerance and a long-term perspective**, who believe NVIDIA\\'s market leadership, innovation, and dominant position in the rapidly expanding AI market can overcome significant geopolitical and competitive headwinds.\\n\\nThe company\\'s financial performance is exceptional, driven by secular tailwinds in AI and data center demand. The overwhelming analyst sentiment, coupled with NVIDIA\\'s strong technological moat and ecosystem, suggests continued upside potential. However, investors must be prepared for the inherent volatility associated with a high-growth technology company operating in a complex global environment. The significant market cap and high expectations mean that any negative news or a slowdown in growth could lead to substantial price fluctuations.\\n\\n---\\n\\n### Conclusion\\n\\nNVIDIA is a transformative company at the epicenter of the AI revolution. Its technological prowess, market dominance, and robust financial performance are undeniable strengths. The company is exceptionally well-positioned to capitalize on the ongoing AI boom, with significant opportunities for expansion into new markets and applications. However, the geopolitical landscape, particularly concerning China, presents a material threat that cannot be ignored. Intense competition and supply chain complexities add further layers of risk.\\n\\nFor investors willing to accept a higher level of risk in pursuit of substantial long-term growth, NVIDIA remains a compelling investment. Its ability to innovate and adapt will be key to navigating the challenges ahead and solidifying its position as a leader in the future of computing.\\n\\n---\\n\\n**Disclaimer:** This report is for informational purposes only and does not constitute investment advice. Investors should conduct their own due diligence and consult with a qualified financial advisor before making any investment decisions.',\n",
              " 'evaluation_count': 3}"
            ]
          },
          "metadata": {},
          "execution_count": 38
        }
      ]
    },
    {
      "cell_type": "markdown",
      "metadata": {
        "id": "5be16da3"
      },
      "source": [
        "This cell displays the critique generated by the `evaluator_agent`. It shows the feedback provided on the `draft_report`, highlighting areas for improvement based on the evaluation criteria. In this case, the report was not approved due to issues with balance and data support, and specific actionable feedback is provided for refinement."
      ]
    },
    {
      "cell_type": "code",
      "source": [
        "final_state['critique']"
      ],
      "metadata": {
        "colab": {
          "base_uri": "https://localhost:8080/",
          "height": 139
        },
        "id": "l-VzLi3L9dUe",
        "outputId": "52de10cb-f1bc-4a8b-cd7c-ffdf950fd250"
      },
      "execution_count": null,
      "outputs": [
        {
          "output_type": "execute_result",
          "data": {
            "text/plain": [
              "'The report is **not balanced**.\\n\\nHere\\'s the specific, actionable feedback for improvement:\\n\\n*   **Balance:** While the report mentions risks, the \"Opportunities\" and \"Strengths\" sections are significantly more detailed and positively framed than the \"Weaknesses\" and \"Threats\" sections. The overall tone leans heavily towards optimism, potentially downplaying the severity of the identified risks. To improve balance, consider:\\n    *   **Quantifying Risks:** Where possible, try to provide some indication of the potential impact of identified risks. For example, instead of just stating \"Geopolitical Risks and Export Controls,\" if there\\'s publicly available information on the percentage of revenue lost or projected to be lost due to these controls, include it.\\n    *   **Equal Weighting in SWOT:** Ensure that the \"Weaknesses\" and \"Threats\" sections are given comparable depth and detail to \"Strengths\" and \"Opportunities.\"\\n    *   **Nuance in Executive Summary and Conclusion:** While the executive summary and conclusion acknowledge risks, they could be more explicit about the *magnitude* of these risks in relation to the opportunities.\\n\\n*   **Mention Risks:** Yes, risks are mentioned.\\n\\n*   **Supported by Data:** The report attempts to support its claims with data, but there are areas for improvement:\\n    *   **Missing Data Points:** The report explicitly states \"[**Insert Average Price Target Here if available, otherwise state \\'not provided\\'**]\" and \"[**Insert Price Target Range Here if available, otherwise state \\'not provided\\'**]\". This is a critical omission for an investment report. The data for FY24 revenue growth is also noted as not provided, with a reliance on FY25 projections.\\n    *   **Inconsistent Data Presentation:** The financial highlights are presented with large, rounded numbers. While this is common, for a detailed investment report, providing more precise figures or specific year-over-year growth percentages (even if estimated from context) would be beneficial. For example, the note about FY25 growth is good, but the lack of FY24 growth percentage is a gap.\\n    *   **\"MD&A mentions 114% growth in FY25\"**: This is a forward-looking statement and should be clearly identified as such. While useful, it\\'s not historical data supporting current performance.\\n\\n*   **Conclusion Clear:** The conclusion is clear in its recommendation and acknowledges both the strengths and weaknesses. However, its clarity could be enhanced by more directly linking the conclusion back to the *balance* of risks and rewards discussed throughout the report.\\n\\n**Overall Recommendation:** The report needs more robust data and a more balanced presentation of risks and opportunities to be considered fully approved.'"
            ],
            "application/vnd.google.colaboratory.intrinsic+json": {
              "type": "string"
            }
          },
          "metadata": {},
          "execution_count": 39
        }
      ]
    },
    {
      "cell_type": "markdown",
      "metadata": {
        "id": "c762bd6a"
      },
      "source": [
        "This cell displays the content of the `final_report` field from the `final_state` dictionary. This contains the final version of the investment research report for NVDA, which was generated and refined by the agent based on the collected data and evaluation feedback."
      ]
    },
    {
      "cell_type": "code",
      "source": [
        "final_state['final_report']"
      ],
      "metadata": {
        "colab": {
          "base_uri": "https://localhost:8080/",
          "height": 139
        },
        "id": "td7fszZb9fRx",
        "outputId": "e2b81b85-eeaf-4975-f5a1-1f9e370a6854"
      },
      "execution_count": null,
      "outputs": [
        {
          "output_type": "execute_result",
          "data": {
            "text/plain": [
              "'## NVIDIA (NVDA) Investment Research Report\\n\\n**Date:** October 26, 2023\\n\\n**Prepared For:** Investment Committee\\n\\n**Prepared By:** [Your Name/Firm Name]\\n\\n---\\n\\n### Executive Summary\\n\\nNVIDIA Corporation (NVDA) stands at the forefront of the artificial intelligence (AI) revolution, a dominant force in the design and manufacturing of Graphics Processing Units (GPUs) that are critical for AI training and inference, as well as high-performance computing. The company has demonstrated exceptional financial performance, driven by unprecedented demand in its Data Center segment. However, significant geopolitical risks, intense competition, and supply chain complexities present considerable challenges. Despite these headwinds, the overwhelming analyst sentiment and the company\\'s strategic positioning in a rapidly expanding market suggest continued growth potential for investors with a high-risk tolerance and a long-term perspective.\\n\\n---\\n\\n### Company Overview\\n\\nNVIDIA Corporation designs and manufactures graphics processing units (GPUs) for the gaming and professional markets. Its GPUs are also used in personal computers, workstations, and supercomputers for a wide range of applications, including artificial intelligence, deep learning, scientific simulations, and autonomous vehicles. The company operates through two main segments: GPU and Compute & Networking.\\n\\n---\\n\\n### Financial Highlights (Most Recent Year - FY24)\\n\\n*   **Total Revenue:** $130,497,000,000\\n    *   *Note: This represents a significant increase from the previous fiscal year, driven primarily by the Data Center segment. Specific YoY growth percentage for FY24 is not provided in the source data, but MD&A mentions 114% growth in FY25, indicating a strong upward trend.*\\n*   **Net Income:** $72,880,000,000\\n    *   *Note: This reflects substantial profitability, underscoring the company\\'s pricing power and operational efficiency in its core markets.*\\n*   **Total Assets:** $111,601,000,000\\n*   **Total Liabilities:** $32,274,000,000\\n    *   *Note: The company maintains a strong balance sheet with significantly more assets than liabilities, indicating a solid financial foundation. A debt-to-equity ratio can be calculated as approximately 0.42, which is healthy.*\\n\\n---\\n\\n### Market Context & Analyst Sentiment\\n\\n*   **Market Capitalization:** $4.57 Trillion\\n*   **52-Week Range:** $86.62 - $191.05\\n*   **Beta (Volatility vs. Market):** 2.123 (Indicates higher volatility than the broader market)\\n*   **Analyst Sentiment:** Overwhelmingly positive, with **58 out of 63** recent analyst ratings being \\'Buy\\' or \\'Strong Buy\\'. The average price target from these analysts is [**Insert Average Price Target Here if available, otherwise state \\'not provided\\'**], with a range of [**Insert Price Target Range Here if available, otherwise state \\'not provided\\'**]. This strong consensus highlights the market\\'s confidence in NVIDIA\\'s future prospects.\\n\\n---\\n\\n### SWOT Analysis\\n\\n**Strengths:**\\n\\n*   **Dominant Market Position in AI & High-Performance Computing:** NVIDIA\\'s GPUs are the de facto standard for AI training and inference, giving it a significant competitive advantage. The company\\'s CUDA software ecosystem further entrenches its position.\\n*   **Exceptional Revenue and Profitability Growth:** The company is experiencing unprecedented demand, leading to substantial revenue and net income growth, as evidenced by the financial data. The MD&A highlights a 114% revenue increase in FY25, driven by accelerated computing and AI solutions.\\n*   **Strong Balance Sheet and Liquidity:** With significantly more assets than liabilities and substantial cash reserves, NVIDIA possesses a robust financial foundation to weather economic downturns and invest in future growth.\\n*   **Innovation and R&D Investment:** The company consistently invests heavily in research and development, enabling it to stay ahead of technological curves and introduce new, high-performance architectures like Hopper.\\n*   **Strategic Partnerships and Ecosystem:** NVIDIA has cultivated strong relationships with cloud providers, AI developers, and other key players in the tech ecosystem, creating a sticky environment for its products.\\n\\n**Weaknesses:**\\n\\n*   **High Dependence on a Few Key Customers and Partners:** While not explicitly quantified, the SEC filings mention dependence on a limited number of key partners and customers, which could pose a risk if these relationships deteriorate.\\n*   **Complex and Volatile Supply Chain:** Long manufacturing lead times, reliance on third-party suppliers, and potential product defects create inherent vulnerabilities in its supply chain, impacting production and delivery schedules.\\n*   **Product Transition Challenges:** Frequent product transitions, while necessary for innovation, can lead to inventory volatility and increased costs.\\n*   **High Valuation and Investor Expectations:** The company\\'s significant market capitalization and strong analyst sentiment imply very high investor expectations, making it susceptible to sharp corrections if growth falters.\\n\\n**Opportunities:**\\n\\n*   **Continued AI and Big Data Expansion:** The \"AI boom\" and \"enormous market opportunity\" driven by \"AI demand\" and \"Big Data\" analytics are expected to continue growing exponentially, providing a vast addressable market for NVIDIA\\'s products.\\n*   **Expansion into New Verticals:** Beyond traditional data centers, NVIDIA\\'s technology is finding applications in autonomous vehicles, robotics, healthcare, and the metaverse, opening up new revenue streams.\\n*   **Geopolitical Tailwinds (Domestic Production):** While China bans are a threat, they could also incentivize governments and companies in other regions to invest more in domestic chip production and partnerships, potentially benefiting NVIDIA in the long run through diversified customer bases.\\n*   **Software and Services Growth:** NVIDIA\\'s expanding software and services offerings, built around its hardware, present an opportunity for recurring revenue and deeper customer engagement.\\n\\n**Threats:**\\n\\n*   **Geopolitical Risks and Export Controls:** The \"China ban\" on Nvidia chips represents a significant geopolitical headwind, impacting sales and market access in a crucial region. US export controls, in general, have a material impact on the company\\'s business.\\n*   **Intense Competition:** While NVIDIA is a leader, the semiconductor industry is highly competitive. Competitors like Intel and AMD are investing heavily to capture market share in AI and high-performance computing.\\n*   **Technological Disruption:** The rapid pace of technological advancement means that a breakthrough by a competitor or a fundamental shift in AI architecture could challenge NVIDIA\\'s dominance.\\n*   **Regulatory Scrutiny:** As a dominant player in a critical technology sector, NVIDIA faces increasing scrutiny over AI practices, data privacy, and sustainability, which could lead to increased costs and liabilities.\\n*   **Economic Downturns:** A significant global economic slowdown could reduce demand for high-end computing and AI solutions, impacting NVIDIA\\'s revenue.\\n\\n---\\n\\n### Key Considerations for Investors\\n\\n*   **Geopolitical Exposure:** The impact of US-China trade relations and export controls on NVIDIA\\'s sales to China is a significant risk that investors must monitor closely. The \"experimental phase\" of these trade talks suggests ongoing uncertainty.\\n*   **Sustaining Growth:** While current growth is exceptional, investors need to assess NVIDIA\\'s ability to sustain this momentum in the face of increasing competition and potential market saturation in certain areas.\\n*   **Valuation:** NVIDIA is trading at a premium valuation, reflecting its market leadership and growth prospects. This high valuation implies that any misstep or slowdown in growth could lead to a significant stock price correction.\\n*   **Supply Chain Resilience:** The company\\'s ability to manage its complex supply chain and mitigate disruptions will be crucial for meeting demand and maintaining its market position.\\n*   **Innovation Pipeline:** Continued investment in R&D and the successful introduction of next-generation products are essential for NVIDIA to maintain its technological edge.\\n\\n---\\n\\n### Investment Recommendation\\n\\n**BUY**\\n\\nThe \\'BUY\\' recommendation is warranted for investors with a **high-risk tolerance and a long-term perspective**, who believe NVIDIA\\'s market leadership, innovation, and dominant position in the rapidly expanding AI market can overcome significant geopolitical and competitive headwinds.\\n\\nThe company\\'s financial performance is exceptional, driven by secular tailwinds in AI and data center demand. The overwhelming analyst sentiment, coupled with NVIDIA\\'s strong technological moat and ecosystem, suggests continued upside potential. However, investors must be prepared for the inherent volatility associated with a high-growth technology company operating in a complex global environment. The significant market cap and high expectations mean that any negative news or a slowdown in growth could lead to substantial price fluctuations.\\n\\n---\\n\\n### Conclusion\\n\\nNVIDIA is a transformative company at the epicenter of the AI revolution. Its technological prowess, market dominance, and robust financial performance are undeniable strengths. The company is exceptionally well-positioned to capitalize on the ongoing AI boom, with significant opportunities for expansion into new markets and applications. However, the geopolitical landscape, particularly concerning China, presents a material threat that cannot be ignored. Intense competition and supply chain complexities add further layers of risk.\\n\\nFor investors willing to accept a higher level of risk in pursuit of substantial long-term growth, NVIDIA remains a compelling investment. Its ability to innovate and adapt will be key to navigating the challenges ahead and solidifying its position as a leader in the future of computing.\\n\\n---\\n\\n**Disclaimer:** This report is for informational purposes only and does not constitute investment advice. Investors should conduct their own due diligence and consult with a qualified financial advisor before making any investment decisions.'"
            ],
            "application/vnd.google.colaboratory.intrinsic+json": {
              "type": "string"
            }
          },
          "metadata": {},
          "execution_count": 40
        }
      ]
    },
    {
      "cell_type": "markdown",
      "metadata": {
        "id": "c964b0a9"
      },
      "source": [
        "This cell displays the content of the `retrieved_data` field from the `final_state` dictionary. This dictionary contains all the data collected by the various worker nodes (news, SEC filings, financials, and market data) during the research process for NVDA."
      ]
    },
    {
      "cell_type": "code",
      "source": [
        "final_state['retrieved_data']"
      ],
      "metadata": {
        "colab": {
          "base_uri": "https://localhost:8080/"
        },
        "id": "QdksljCyX0GZ",
        "outputId": "1d13c5fe-9bde-4bd6-8974-e333e17840af"
      },
      "execution_count": null,
      "outputs": [
        {
          "output_type": "execute_result",
          "data": {
            "text/plain": [
              "{'news': '--- Chained News Analysis for NVDA ---\\n\\n        **Sentiments (per article):**\\n        [\\n  {\\n    \"title\": \"China\\'s Nvidia ban marks \\'experimental phase\\' of trade talks\",\\n    \"sentiment\": \"bearish\"\\n  },\\n  {\\n    \"title\": \"How to trade the AI boom beyond chips\",\\n    \"sentiment\": \"neutral\"\\n  },\\n  {\\n    \"title\": \"Intel \\'needs\\' Apple to invest like Nvidia & US government did\",\\n    \"sentiment\": \"neutral\"\\n  },\\n  {\\n    \"title\": \"Watch for this signal in Nvidia stock to capitalize on spring-loaded gains ahead\",\\n    \"sentiment\": \"bullish\"\\n  },\\n  {\\n    \"title\": \"Buy 5 Big Data Behemoths to Benefit From Enormous Market Opportunity\",\\n    \"sentiment\": \"bullish\"\\n  }\\n]\\n\\n        **Extracted Entities:**\\n        [\\n  {\\n    \"title\": \"China\\'s Nvidia ban marks \\'experimental phase\\' of trade talks\",\\n    \"entities\": [\\n      \"China ban\",\\n      \"Nvidia chips\"\\n    ]\\n  },\\n  {\\n    \"title\": \"How to trade the AI boom beyond chips\",\\n    \"entities\": [\\n      \"AI boom\",\\n      \"chip companies\",\\n      \"large language models\"\\n    ]\\n  },\\n  {\\n    \"title\": \"Intel \\'needs\\' Apple to invest like Nvidia & US government did\",\\n    \"entities\": [\\n      \"Apple investment\",\\n      \"Nvidia investment\",\\n      \"US government investment\"\\n    ]\\n  },\\n  {\\n    \"title\": \"Watch for this signal in Nvidia stock to capitalize on spring-loaded gains ahead\",\\n    \"entities\": [\\n      \"Nvidia stock\",\\n      \"spring-loaded gains\"\\n    ]\\n  },\\n  {\\n    \"title\": \"Buy 5 Big Data Behemoths to Benefit From Enormous Market Opportunity\",\\n    \"entities\": [\\n      \"Big Data\",\\n      \"AI demand\",\\n      \"analytics demand\"\\n    ]\\n  }\\n]\\n\\n        **Summary Insights:**\\n        Here are the top insights for NVDA from the provided sentiments and entities:\\n\\n*   **Geopolitical Risk from China Ban:** A significant bearish sentiment highlights the negative impact of China\\'s ban on Nvidia chips, framing it as an \"experimental phase\" in trade talks. This indicates a potential ongoing risk to Nvidia\\'s sales and market access in a crucial region.\\n\\n*   **AI Boom as a Major Opportunity:** Multiple bullish sentiments and entities point to the \"AI boom\" and \"enormous market opportunity\" driven by \"AI demand\" and \"Big Data.\" Nvidia is positioned as a key player in this trend, with mentions of \"spring-loaded gains ahead\" for its stock, suggesting strong growth potential.\\n\\n*   **Competition and Investment Landscape:** While Nvidia is seen as a leader, there\\'s a neutral sentiment acknowledging the competitive landscape. Intel\\'s need for investment comparable to Nvidia and the US government\\'s support suggests that significant capital is flowing into the AI chip sector, and Nvidia\\'s success is partly attributed to strategic investments.\\n\\n*   **Diversification Beyond Chips:** A neutral sentiment suggests exploring opportunities \"beyond chips\" within the AI boom. While Nvidia is primarily known for its chips, this insight implies that the broader AI ecosystem presents opportunities that might extend beyond its core business, though it doesn\\'t directly impact Nvidia\\'s current operations.\\n\\n        **Raw Preprocessed Texts (for reference):**\\n        Title: China\\'s Nvidia ban marks \\'experimental phase\\' of trade talks\\nContent: China has reportedly banned Chinese firms from buying Nvidia (NVDA) chips, according to reporting from the Financial Times. Rhodium Group director Reva...\\n\\n---\\n\\nTitle: How to trade the AI boom beyond chips\\nContent: When people talk about artificial intelligence stocks, they usually think of chip companies like Nvidia (NVDA) or companies working on large language models,...\\n\\n---\\n\\nTitle: Intel \\'needs\\' Apple to invest like...',\n",
              " 'sec_filings': 'The \\'Risk Factors\\' summary is: Here are the key takeaways from the provided text in 5 bullet points:\\n\\n*   **Industry and Market Dynamics:** The company faces risks from failing to adapt to evolving industry needs and intense competition, which can impact market share and financial results.\\n*   **Supply Chain and Manufacturing Vulnerabilities:** Long manufacturing lead times, uncertain component availability, reliance on third-party suppliers, and potential product defects pose significant risks to production, quality, and delivery schedules.\\n*   **Global Operations and Security Threats:** International business exposes the company to economic and political instability, while product, system security, and data breaches, including cyber-attacks, can disrupt operations and damage reputation.\\n*   **Regulatory and Legal Landscape:** The company is subject to complex and changing laws, regulations, and political actions globally, including export controls, data privacy laws, and scrutiny over AI and sustainability practices, which can lead to increased costs and liabilities.\\n*   **Financial and Operational Volatility:** Fluctuations in operating results, dependence on a limited number of key partners and customers, challenges in integrating acquisitions, and the inability to attract/retain key employees can negatively impact financial performance and stock price. and \\n\\n\\n        \"Management\\'s Discussion and Analysis\" summary is: Here are the key takeaways from the provided text in 5 bullet points:\\n\\n*   **Exceptional Revenue Growth Driven by Data Center and AI:** NVIDIA experienced a significant 114% revenue increase in fiscal year 2025, primarily fueled by the booming demand for its accelerated computing and AI solutions in the Data Center segment, with the Hopper architecture being a key driver.\\n*   **Complex Supply Chain and Product Transition Challenges:** The company faces ongoing challenges in managing its complex global supply chain and navigating frequent product transitions, which can lead to inventory volatility, increased costs, and potential revenue fluctuations.\\n*   **Significant Impact of US Export Controls:** US government export controls, particularly those affecting sales to China and certain other regions, have a material impact on NVIDIA\\'s business, limiting sales of high-performance products and requiring the development of alternative solutions.\\n*   **Strong Financial Performance and Liquidity:** NVIDIA demonstrated robust financial performance with substantial increases in gross profit, operating income, and net income. The company maintains strong liquidity with significant cash, cash equivalents, and marketable securities.\\n*   **Increased Investment in R&D and Shareholder Returns:** Operating expenses, particularly in research and development, have increased significantly to support new product introductions. NVIDIA also continues to return substantial capital to shareholders through share repurchases and dividends.',\n",
              " 'financials': '--- Key Financials for NVDA (Most Recent Year) ---\\n        \\n        **Income Statement:**\\n        - Total Revenue: $130,497,000,000\\n        - Net Income: $72,880,000,000\\n        \\n        **Balance Sheet:**\\n        - Total Assets: $111,601,000,000\\n        - Total Liabilities: $32,274,000,000',\n",
              " 'market_data': \"--- Market Data Snapshot for NVDA ---\\n        \\n**Performance & Valuation:**\\n- Market Cap: $4.57 T\\n- 52-Week Range: $86.62 - $191.05\\n- Beta (Volatility vs. Market): 2.123\\n\\n**Analyst Sentiment:**\\n- Consensus: 58 of the 63 most recent analyst ratings are 'Buy' or 'Strong Buy'.\"}"
            ]
          },
          "metadata": {},
          "execution_count": 41
        }
      ]
    }
  ]
}